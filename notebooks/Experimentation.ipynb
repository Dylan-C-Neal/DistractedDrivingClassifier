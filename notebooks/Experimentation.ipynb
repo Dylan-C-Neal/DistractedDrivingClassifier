{
 "cells": [
  {
   "cell_type": "markdown",
   "metadata": {},
   "source": [
    "# Pre-Work"
   ]
  },
  {
   "cell_type": "code",
   "execution_count": 1,
   "metadata": {},
   "outputs": [],
   "source": [
    "import warnings\n",
    "warnings.filterwarnings(\"ignore\", category=FutureWarning)\n",
    "import tensorflow as tf\n",
    "import tensorflow.keras as keras\n",
    "from tensorflow.keras import Sequential\n",
    "from tensorflow.keras.layers import Conv2D, Dense, Flatten, MaxPool2D, Dropout, BatchNormalization\n",
    "from tensorflow.keras.callbacks import ModelCheckpoint"
   ]
  },
  {
   "cell_type": "code",
   "execution_count": 2,
   "metadata": {},
   "outputs": [
    {
     "name": "stdout",
     "output_type": "stream",
     "text": [
      "1 Physical GPUs, 1 Logical GPUs\n"
     ]
    }
   ],
   "source": [
    "gpus = tf.config.experimental.list_physical_devices('GPU')\n",
    "if gpus:\n",
    "    # Restrict TensorFlow to only allocate 1GB * 2 of memory on the first GPU\n",
    "    try:\n",
    "        tf.config.experimental.set_virtual_device_configuration(\n",
    "            gpus[0],\n",
    "            [tf.config.experimental.VirtualDeviceConfiguration(memory_limit=1024 * 2)])\n",
    "        logical_gpus = tf.config.experimental.list_logical_devices('GPU')\n",
    "        print(len(gpus), \"Physical GPUs,\", len(logical_gpus), \"Logical GPUs\")\n",
    "    except RuntimeError as e:\n",
    "        # Virtual devices must be set before GPUs have been initialized\n",
    "        print(e)"
   ]
  },
  {
   "cell_type": "code",
   "execution_count": null,
   "metadata": {},
   "outputs": [],
   "source": []
  },
  {
   "cell_type": "markdown",
   "metadata": {},
   "source": [
    "# Attempt 1"
   ]
  },
  {
   "cell_type": "markdown",
   "metadata": {},
   "source": [
    "### Create Weight Checkpoint"
   ]
  },
  {
   "cell_type": "code",
   "execution_count": null,
   "metadata": {},
   "outputs": [],
   "source": [
    "checkpoint = ModelCheckpoint('weights.hdf5', \\\n",
    "                              mode='max', \\\n",
    "                              monitor='val_accuracy', \\\n",
    "                              save_best_only=True)\n",
    "callbacks_list=[checkpoint]"
   ]
  },
  {
   "cell_type": "markdown",
   "metadata": {},
   "source": [
    "### Datagen"
   ]
  },
  {
   "cell_type": "code",
   "execution_count": 3,
   "metadata": {},
   "outputs": [],
   "source": [
    "trainpath = '../data/raw/imgs/train'\n",
    "testpath = '../data/raw/imgs/testlabeled'"
   ]
  },
  {
   "cell_type": "code",
   "execution_count": 4,
   "metadata": {},
   "outputs": [],
   "source": [
    "datagen = keras.preprocessing.image.ImageDataGenerator(validation_split=0.2)\n",
    "testdatagen = keras.preprocessing.image.ImageDataGenerator()"
   ]
  },
  {
   "cell_type": "code",
   "execution_count": 5,
   "metadata": {},
   "outputs": [
    {
     "name": "stdout",
     "output_type": "stream",
     "text": [
      "Found 17943 images belonging to 10 classes.\n"
     ]
    }
   ],
   "source": [
    "train = datagen.flow_from_directory(trainpath, \\\n",
    "                                   target_size=(480, 640), \\\n",
    "                                   subset='training', \\\n",
    "                                   seed=42)"
   ]
  },
  {
   "cell_type": "code",
   "execution_count": 6,
   "metadata": {},
   "outputs": [
    {
     "name": "stdout",
     "output_type": "stream",
     "text": [
      "Found 4481 images belonging to 10 classes.\n"
     ]
    }
   ],
   "source": [
    "val = datagen.flow_from_directory(trainpath, \\\n",
    "                                  target_size=(480, 640), \\\n",
    "                                  subset='validation', \\\n",
    "                                  seed=42)"
   ]
  },
  {
   "cell_type": "code",
   "execution_count": 7,
   "metadata": {},
   "outputs": [
    {
     "name": "stdout",
     "output_type": "stream",
     "text": [
      "Found 200 images belonging to 10 classes.\n"
     ]
    }
   ],
   "source": [
    "test = datagen.flow_from_directory(testpath, \\\n",
    "                                   target_size=(480, 640))"
   ]
  },
  {
   "cell_type": "markdown",
   "metadata": {},
   "source": [
    "### Build Model"
   ]
  },
  {
   "cell_type": "code",
   "execution_count": 8,
   "metadata": {},
   "outputs": [],
   "source": [
    "model = Sequential()"
   ]
  },
  {
   "cell_type": "code",
   "execution_count": 9,
   "metadata": {},
   "outputs": [],
   "source": [
    "model.add(Conv2D(10, kernel_size=3, activation='relu', input_shape=(480, 640, 3)))"
   ]
  },
  {
   "cell_type": "code",
   "execution_count": 10,
   "metadata": {
    "scrolled": true
   },
   "outputs": [
    {
     "name": "stdout",
     "output_type": "stream",
     "text": [
      "Model: \"sequential\"\n",
      "_________________________________________________________________\n",
      "Layer (type)                 Output Shape              Param #   \n",
      "=================================================================\n",
      "conv2d (Conv2D)              (None, 478, 638, 10)      280       \n",
      "=================================================================\n",
      "Total params: 280\n",
      "Trainable params: 280\n",
      "Non-trainable params: 0\n",
      "_________________________________________________________________\n"
     ]
    }
   ],
   "source": [
    "model.summary()"
   ]
  },
  {
   "cell_type": "code",
   "execution_count": 11,
   "metadata": {},
   "outputs": [],
   "source": [
    "model.add(MaxPool2D(30))"
   ]
  },
  {
   "cell_type": "code",
   "execution_count": 12,
   "metadata": {},
   "outputs": [],
   "source": [
    "model.add(Flatten())"
   ]
  },
  {
   "cell_type": "code",
   "execution_count": 13,
   "metadata": {},
   "outputs": [],
   "source": [
    "model.add(Dense(10, activation='softmax'))"
   ]
  },
  {
   "cell_type": "code",
   "execution_count": 14,
   "metadata": {},
   "outputs": [
    {
     "name": "stdout",
     "output_type": "stream",
     "text": [
      "Model: \"sequential\"\n",
      "_________________________________________________________________\n",
      "Layer (type)                 Output Shape              Param #   \n",
      "=================================================================\n",
      "conv2d (Conv2D)              (None, 478, 638, 10)      280       \n",
      "_________________________________________________________________\n",
      "max_pooling2d (MaxPooling2D) (None, 15, 21, 10)        0         \n",
      "_________________________________________________________________\n",
      "flatten (Flatten)            (None, 3150)              0         \n",
      "_________________________________________________________________\n",
      "dense (Dense)                (None, 10)                31510     \n",
      "=================================================================\n",
      "Total params: 31,790\n",
      "Trainable params: 31,790\n",
      "Non-trainable params: 0\n",
      "_________________________________________________________________\n"
     ]
    }
   ],
   "source": [
    "model.summary()"
   ]
  },
  {
   "cell_type": "code",
   "execution_count": 15,
   "metadata": {},
   "outputs": [],
   "source": [
    "model.compile(optimizer='adam', loss='categorical_crossentropy', metrics=['accuracy'])"
   ]
  },
  {
   "cell_type": "markdown",
   "metadata": {},
   "source": [
    "### Fit Model"
   ]
  },
  {
   "cell_type": "code",
   "execution_count": 17,
   "metadata": {},
   "outputs": [
    {
     "name": "stdout",
     "output_type": "stream",
     "text": [
      "WARNING:tensorflow:sample_weight modes were coerced from\n",
      "  ...\n",
      "    to  \n",
      "  ['...']\n",
      "WARNING:tensorflow:sample_weight modes were coerced from\n",
      "  ...\n",
      "    to  \n",
      "  ['...']\n",
      "Train for 561 steps, validate for 7 steps\n",
      "Epoch 1/3\n",
      "561/561 [==============================] - 316s 564ms/step - loss: 4.9736 - accuracy: 0.6985 - val_loss: 10.3101 - val_accuracy: 0.3250\n",
      "Epoch 2/3\n",
      "561/561 [==============================] - 207s 369ms/step - loss: 0.2891 - accuracy: 0.9359 - val_loss: 10.8733 - val_accuracy: 0.3400\n",
      "Epoch 3/3\n",
      "561/561 [==============================] - 211s 377ms/step - loss: 0.1438 - accuracy: 0.9646 - val_loss: 12.3586 - val_accuracy: 0.3600\n"
     ]
    },
    {
     "data": {
      "text/plain": [
       "<tensorflow.python.keras.callbacks.History at 0x20d6388f188>"
      ]
     },
     "execution_count": 17,
     "metadata": {},
     "output_type": "execute_result"
    }
   ],
   "source": [
    "model.fit(train, \\\n",
    "          epochs=3, \\\n",
    "          validation_data=test, \\\n",
    "          callbacks=callbacks_list)"
   ]
  },
  {
   "cell_type": "code",
   "execution_count": null,
   "metadata": {},
   "outputs": [],
   "source": []
  },
  {
   "cell_type": "code",
   "execution_count": null,
   "metadata": {},
   "outputs": [],
   "source": []
  },
  {
   "cell_type": "markdown",
   "metadata": {},
   "source": [
    "# Attempt 2"
   ]
  },
  {
   "cell_type": "markdown",
   "metadata": {},
   "source": [
    "### Create Weight Checkpoint"
   ]
  },
  {
   "cell_type": "code",
   "execution_count": 47,
   "metadata": {},
   "outputs": [],
   "source": [
    "checkpoint = ModelCheckpoint('weights.hdf5', \\\n",
    "                              mode='max', \\\n",
    "                              monitor='val_accuracy', \\\n",
    "                              save_best_only=True)\n",
    "callbacks_list=[checkpoint]"
   ]
  },
  {
   "cell_type": "markdown",
   "metadata": {},
   "source": [
    "### Datagen"
   ]
  },
  {
   "cell_type": "code",
   "execution_count": 48,
   "metadata": {},
   "outputs": [],
   "source": [
    "trainpath = '../data/raw/imgs/train'\n",
    "testpath = '../data/raw/imgs/testlabeled'"
   ]
  },
  {
   "cell_type": "code",
   "execution_count": 49,
   "metadata": {},
   "outputs": [],
   "source": [
    "datagen = keras.preprocessing.image.ImageDataGenerator()\n",
    "testdatagen = keras.preprocessing.image.ImageDataGenerator()"
   ]
  },
  {
   "cell_type": "code",
   "execution_count": 50,
   "metadata": {},
   "outputs": [
    {
     "name": "stdout",
     "output_type": "stream",
     "text": [
      "Found 22424 images belonging to 10 classes.\n"
     ]
    }
   ],
   "source": [
    "train = datagen.flow_from_directory(trainpath)"
   ]
  },
  {
   "cell_type": "code",
   "execution_count": 51,
   "metadata": {},
   "outputs": [
    {
     "name": "stdout",
     "output_type": "stream",
     "text": [
      "Found 200 images belonging to 10 classes.\n"
     ]
    }
   ],
   "source": [
    "test = datagen.flow_from_directory(testpath)"
   ]
  },
  {
   "cell_type": "markdown",
   "metadata": {},
   "source": [
    "### Build Model"
   ]
  },
  {
   "cell_type": "code",
   "execution_count": 52,
   "metadata": {},
   "outputs": [],
   "source": [
    "model = Sequential()"
   ]
  },
  {
   "cell_type": "code",
   "execution_count": 53,
   "metadata": {},
   "outputs": [],
   "source": [
    "model.add(Conv2D(10, kernel_size=3, activation='relu', input_shape=(256, 256, 3)))"
   ]
  },
  {
   "cell_type": "code",
   "execution_count": 54,
   "metadata": {},
   "outputs": [],
   "source": [
    "model.add(Conv2D(10, kernel_size=3, activation='relu'))"
   ]
  },
  {
   "cell_type": "code",
   "execution_count": 55,
   "metadata": {},
   "outputs": [],
   "source": [
    "model.add(MaxPool2D(30))"
   ]
  },
  {
   "cell_type": "code",
   "execution_count": 56,
   "metadata": {},
   "outputs": [],
   "source": [
    "model.add(Flatten())"
   ]
  },
  {
   "cell_type": "code",
   "execution_count": 57,
   "metadata": {},
   "outputs": [],
   "source": [
    "model.add(Dense(10, activation='softmax'))"
   ]
  },
  {
   "cell_type": "code",
   "execution_count": 58,
   "metadata": {},
   "outputs": [],
   "source": [
    "model.compile(optimizer='adam', loss='categorical_crossentropy', metrics=['accuracy'])"
   ]
  },
  {
   "cell_type": "code",
   "execution_count": 59,
   "metadata": {},
   "outputs": [
    {
     "name": "stdout",
     "output_type": "stream",
     "text": [
      "Model: \"sequential_3\"\n",
      "_________________________________________________________________\n",
      "Layer (type)                 Output Shape              Param #   \n",
      "=================================================================\n",
      "conv2d_3 (Conv2D)            (None, 254, 254, 10)      280       \n",
      "_________________________________________________________________\n",
      "conv2d_4 (Conv2D)            (None, 252, 252, 10)      910       \n",
      "_________________________________________________________________\n",
      "max_pooling2d_3 (MaxPooling2 (None, 8, 8, 10)          0         \n",
      "_________________________________________________________________\n",
      "flatten_3 (Flatten)          (None, 640)               0         \n",
      "_________________________________________________________________\n",
      "dense_3 (Dense)              (None, 10)                6410      \n",
      "=================================================================\n",
      "Total params: 7,600\n",
      "Trainable params: 7,600\n",
      "Non-trainable params: 0\n",
      "_________________________________________________________________\n"
     ]
    }
   ],
   "source": [
    "model.summary()"
   ]
  },
  {
   "cell_type": "markdown",
   "metadata": {},
   "source": [
    "### Fit Model"
   ]
  },
  {
   "cell_type": "code",
   "execution_count": 60,
   "metadata": {},
   "outputs": [
    {
     "name": "stdout",
     "output_type": "stream",
     "text": [
      "WARNING:tensorflow:sample_weight modes were coerced from\n",
      "  ...\n",
      "    to  \n",
      "  ['...']\n",
      "WARNING:tensorflow:sample_weight modes were coerced from\n",
      "  ...\n",
      "    to  \n",
      "  ['...']\n",
      "Train for 20 steps, validate for 7 steps\n",
      "Epoch 1/100\n",
      "20/20 [==============================] - 7s 364ms/step - loss: 88.6667 - accuracy: 0.1297 - val_loss: 52.0143 - val_accuracy: 0.1200\n",
      "Epoch 2/100\n",
      "20/20 [==============================] - 7s 331ms/step - loss: 36.0103 - accuracy: 0.1203 - val_loss: 41.5302 - val_accuracy: 0.1350\n",
      "Epoch 3/100\n",
      "20/20 [==============================] - 6s 319ms/step - loss: 22.8517 - accuracy: 0.1453 - val_loss: 27.0028 - val_accuracy: 0.1800\n",
      "Epoch 4/100\n",
      "20/20 [==============================] - 7s 347ms/step - loss: 15.8309 - accuracy: 0.1531 - val_loss: 20.5478 - val_accuracy: 0.1900\n",
      "Epoch 5/100\n",
      "20/20 [==============================] - 6s 313ms/step - loss: 11.5506 - accuracy: 0.1922 - val_loss: 16.2754 - val_accuracy: 0.1950\n",
      "Epoch 6/100\n",
      "20/20 [==============================] - 7s 327ms/step - loss: 9.6441 - accuracy: 0.2109 - val_loss: 12.6224 - val_accuracy: 0.1500\n",
      "Epoch 7/100\n",
      "20/20 [==============================] - 6s 304ms/step - loss: 7.0679 - accuracy: 0.2469 - val_loss: 10.2795 - val_accuracy: 0.1700\n",
      "Epoch 8/100\n",
      "20/20 [==============================] - 6s 313ms/step - loss: 5.5376 - accuracy: 0.2937 - val_loss: 8.4647 - val_accuracy: 0.1650\n",
      "Epoch 9/100\n",
      "20/20 [==============================] - 6s 305ms/step - loss: 4.2998 - accuracy: 0.3125 - val_loss: 7.9350 - val_accuracy: 0.1650\n",
      "Epoch 10/100\n",
      "20/20 [==============================] - 7s 356ms/step - loss: 4.3746 - accuracy: 0.2875 - val_loss: 6.6463 - val_accuracy: 0.1800\n",
      "Epoch 11/100\n",
      "20/20 [==============================] - 7s 327ms/step - loss: 3.5561 - accuracy: 0.3187 - val_loss: 5.9226 - val_accuracy: 0.1950\n",
      "Epoch 12/100\n",
      "20/20 [==============================] - 7s 334ms/step - loss: 3.3144 - accuracy: 0.3391 - val_loss: 5.0189 - val_accuracy: 0.2450\n",
      "Epoch 13/100\n",
      "20/20 [==============================] - 6s 317ms/step - loss: 2.6608 - accuracy: 0.3516 - val_loss: 4.8399 - val_accuracy: 0.2600\n",
      "Epoch 14/100\n",
      "20/20 [==============================] - 6s 314ms/step - loss: 2.3340 - accuracy: 0.4281 - val_loss: 4.1581 - val_accuracy: 0.2600\n",
      "Epoch 15/100\n",
      "20/20 [==============================] - 7s 346ms/step - loss: 2.2703 - accuracy: 0.4078 - val_loss: 3.9212 - val_accuracy: 0.2700\n",
      "Epoch 16/100\n",
      "20/20 [==============================] - 7s 328ms/step - loss: 2.1226 - accuracy: 0.4125 - val_loss: 3.4825 - val_accuracy: 0.2700\n",
      "Epoch 17/100\n",
      "20/20 [==============================] - 6s 323ms/step - loss: 1.9460 - accuracy: 0.4250 - val_loss: 3.1630 - val_accuracy: 0.2850\n",
      "Epoch 18/100\n",
      "20/20 [==============================] - 7s 330ms/step - loss: 1.6869 - accuracy: 0.4797 - val_loss: 3.2545 - val_accuracy: 0.2900\n",
      "Epoch 19/100\n",
      "20/20 [==============================] - 6s 308ms/step - loss: 1.9007 - accuracy: 0.4359 - val_loss: 2.8537 - val_accuracy: 0.2700\n",
      "Epoch 20/100\n",
      "20/20 [==============================] - 6s 317ms/step - loss: 1.7007 - accuracy: 0.4672 - val_loss: 2.7591 - val_accuracy: 0.3050\n",
      "Epoch 21/100\n",
      "20/20 [==============================] - 6s 311ms/step - loss: 1.7131 - accuracy: 0.4375 - val_loss: 2.9026 - val_accuracy: 0.3000\n",
      "Epoch 22/100\n",
      "20/20 [==============================] - 6s 317ms/step - loss: 1.5155 - accuracy: 0.4969 - val_loss: 3.1351 - val_accuracy: 0.3200\n",
      "Epoch 23/100\n",
      "20/20 [==============================] - 7s 329ms/step - loss: 1.4109 - accuracy: 0.5469 - val_loss: 3.0362 - val_accuracy: 0.3400\n",
      "Epoch 24/100\n",
      "20/20 [==============================] - 6s 295ms/step - loss: 1.5012 - accuracy: 0.5141 - val_loss: 2.6771 - val_accuracy: 0.3400\n",
      "Epoch 25/100\n",
      "20/20 [==============================] - 6s 304ms/step - loss: 1.4488 - accuracy: 0.5380 - val_loss: 3.0032 - val_accuracy: 0.3400\n",
      "Epoch 26/100\n",
      "20/20 [==============================] - 6s 296ms/step - loss: 1.3546 - accuracy: 0.5500 - val_loss: 2.9712 - val_accuracy: 0.3550\n",
      "Epoch 27/100\n",
      "20/20 [==============================] - 7s 346ms/step - loss: 1.5167 - accuracy: 0.5078 - val_loss: 2.7277 - val_accuracy: 0.3450\n",
      "Epoch 28/100\n",
      "20/20 [==============================] - 6s 299ms/step - loss: 1.3127 - accuracy: 0.5609 - val_loss: 2.9660 - val_accuracy: 0.3400\n",
      "Epoch 29/100\n",
      "20/20 [==============================] - 6s 282ms/step - loss: 1.3193 - accuracy: 0.5734 - val_loss: 2.9568 - val_accuracy: 0.3300\n",
      "Epoch 30/100\n",
      "20/20 [==============================] - 7s 330ms/step - loss: 1.2805 - accuracy: 0.6125 - val_loss: 2.9080 - val_accuracy: 0.3250\n",
      "Epoch 31/100\n",
      "20/20 [==============================] - 6s 297ms/step - loss: 1.2745 - accuracy: 0.5688 - val_loss: 2.7548 - val_accuracy: 0.3250\n",
      "Epoch 32/100\n",
      "20/20 [==============================] - 6s 287ms/step - loss: 1.1895 - accuracy: 0.6109 - val_loss: 2.9312 - val_accuracy: 0.3500\n",
      "Epoch 33/100\n",
      "20/20 [==============================] - 6s 319ms/step - loss: 1.1997 - accuracy: 0.6219 - val_loss: 3.1167 - val_accuracy: 0.3350\n",
      "Epoch 34/100\n",
      "20/20 [==============================] - 6s 288ms/step - loss: 1.1744 - accuracy: 0.6219 - val_loss: 3.1954 - val_accuracy: 0.3350\n",
      "Epoch 35/100\n",
      "20/20 [==============================] - 6s 320ms/step - loss: 1.0935 - accuracy: 0.6469 - val_loss: 2.9410 - val_accuracy: 0.3000\n",
      "Epoch 36/100\n",
      "20/20 [==============================] - 6s 305ms/step - loss: 1.1317 - accuracy: 0.6516 - val_loss: 2.9941 - val_accuracy: 0.3100\n",
      "Epoch 37/100\n",
      "20/20 [==============================] - 5s 274ms/step - loss: 1.0746 - accuracy: 0.6438 - val_loss: 2.7892 - val_accuracy: 0.3100\n",
      "Epoch 38/100\n",
      "20/20 [==============================] - 6s 295ms/step - loss: 1.0967 - accuracy: 0.6516 - val_loss: 2.8878 - val_accuracy: 0.3100\n",
      "Epoch 39/100\n",
      "20/20 [==============================] - 6s 282ms/step - loss: 0.9040 - accuracy: 0.7016 - val_loss: 3.0977 - val_accuracy: 0.3600\n",
      "Epoch 40/100\n",
      "20/20 [==============================] - 6s 295ms/step - loss: 0.9385 - accuracy: 0.6859 - val_loss: 2.8931 - val_accuracy: 0.3300\n",
      "Epoch 41/100\n",
      "20/20 [==============================] - 6s 300ms/step - loss: 1.1030 - accuracy: 0.6578 - val_loss: 3.2473 - val_accuracy: 0.3400\n",
      "Epoch 42/100\n",
      "20/20 [==============================] - 6s 313ms/step - loss: 0.9677 - accuracy: 0.6906 - val_loss: 3.0010 - val_accuracy: 0.3600\n",
      "Epoch 43/100\n",
      "20/20 [==============================] - 7s 343ms/step - loss: 0.9069 - accuracy: 0.7109 - val_loss: 3.2142 - val_accuracy: 0.3300\n",
      "Epoch 44/100\n",
      "20/20 [==============================] - 6s 316ms/step - loss: 0.9369 - accuracy: 0.7078 - val_loss: 3.1902 - val_accuracy: 0.3650\n",
      "Epoch 45/100\n",
      "20/20 [==============================] - 7s 372ms/step - loss: 0.9617 - accuracy: 0.6906 - val_loss: 3.3680 - val_accuracy: 0.3450\n",
      "Epoch 46/100\n",
      "20/20 [==============================] - 6s 316ms/step - loss: 0.8988 - accuracy: 0.7109 - val_loss: 3.0886 - val_accuracy: 0.3800\n",
      "Epoch 47/100\n",
      "20/20 [==============================] - 6s 322ms/step - loss: 0.8117 - accuracy: 0.7453 - val_loss: 3.2585 - val_accuracy: 0.3600\n",
      "Epoch 48/100\n",
      "20/20 [==============================] - 7s 331ms/step - loss: 0.8502 - accuracy: 0.7125 - val_loss: 3.2423 - val_accuracy: 0.3400\n",
      "Epoch 49/100\n",
      "20/20 [==============================] - 8s 381ms/step - loss: 0.9033 - accuracy: 0.7109 - val_loss: 3.1938 - val_accuracy: 0.3750\n",
      "Epoch 50/100\n",
      "20/20 [==============================] - 6s 301ms/step - loss: 0.8541 - accuracy: 0.7281 - val_loss: 3.2318 - val_accuracy: 0.3550\n",
      "Epoch 51/100\n",
      "20/20 [==============================] - 6s 301ms/step - loss: 0.7896 - accuracy: 0.7500 - val_loss: 3.4180 - val_accuracy: 0.3650\n",
      "Epoch 52/100\n",
      "20/20 [==============================] - 8s 382ms/step - loss: 0.7754 - accuracy: 0.7609 - val_loss: 3.3819 - val_accuracy: 0.3800\n",
      "Epoch 53/100\n",
      "20/20 [==============================] - 7s 331ms/step - loss: 0.7283 - accuracy: 0.7641 - val_loss: 3.1953 - val_accuracy: 0.3500\n",
      "Epoch 54/100\n",
      "20/20 [==============================] - 7s 328ms/step - loss: 0.7747 - accuracy: 0.7500 - val_loss: 3.3709 - val_accuracy: 0.3550\n",
      "Epoch 55/100\n",
      "20/20 [==============================] - 6s 302ms/step - loss: 0.6662 - accuracy: 0.8000 - val_loss: 3.4632 - val_accuracy: 0.3500\n",
      "Epoch 56/100\n",
      "20/20 [==============================] - 6s 303ms/step - loss: 0.6576 - accuracy: 0.8000 - val_loss: 3.4182 - val_accuracy: 0.3500\n",
      "Epoch 57/100\n",
      "20/20 [==============================] - 7s 372ms/step - loss: 0.7460 - accuracy: 0.7609 - val_loss: 3.1545 - val_accuracy: 0.3650\n",
      "Epoch 58/100\n",
      "20/20 [==============================] - 7s 328ms/step - loss: 0.6449 - accuracy: 0.8000 - val_loss: 3.4577 - val_accuracy: 0.3600\n",
      "Epoch 59/100\n",
      "20/20 [==============================] - 7s 338ms/step - loss: 0.6948 - accuracy: 0.7766 - val_loss: 3.2171 - val_accuracy: 0.3850\n",
      "Epoch 60/100\n",
      "20/20 [==============================] - 7s 337ms/step - loss: 0.7976 - accuracy: 0.7531 - val_loss: 3.5776 - val_accuracy: 0.3600\n",
      "Epoch 61/100\n",
      "20/20 [==============================] - 7s 365ms/step - loss: 0.6263 - accuracy: 0.8156 - val_loss: 3.3213 - val_accuracy: 0.3700\n",
      "Epoch 62/100\n",
      "20/20 [==============================] - 7s 329ms/step - loss: 0.7004 - accuracy: 0.7734 - val_loss: 3.6118 - val_accuracy: 0.3750\n",
      "Epoch 63/100\n",
      "20/20 [==============================] - 7s 329ms/step - loss: 0.6063 - accuracy: 0.8172 - val_loss: 3.2098 - val_accuracy: 0.3650\n",
      "Epoch 64/100\n",
      "20/20 [==============================] - 5s 274ms/step - loss: 0.6278 - accuracy: 0.8078 - val_loss: 3.6268 - val_accuracy: 0.3800\n",
      "Epoch 65/100\n",
      "20/20 [==============================] - 7s 326ms/step - loss: 0.5921 - accuracy: 0.7953 - val_loss: 3.7744 - val_accuracy: 0.4000\n",
      "Epoch 66/100\n",
      "20/20 [==============================] - 6s 325ms/step - loss: 0.5935 - accuracy: 0.8062 - val_loss: 3.9350 - val_accuracy: 0.3500\n",
      "Epoch 67/100\n",
      "20/20 [==============================] - 6s 323ms/step - loss: 0.6686 - accuracy: 0.7875 - val_loss: 3.4847 - val_accuracy: 0.3700\n",
      "Epoch 68/100\n",
      "20/20 [==============================] - 6s 299ms/step - loss: 0.6514 - accuracy: 0.8016 - val_loss: 3.5804 - val_accuracy: 0.3750\n",
      "Epoch 69/100\n",
      "20/20 [==============================] - 6s 299ms/step - loss: 0.5792 - accuracy: 0.8078 - val_loss: 3.8283 - val_accuracy: 0.3650\n",
      "Epoch 70/100\n",
      "20/20 [==============================] - 6s 314ms/step - loss: 0.7378 - accuracy: 0.7484 - val_loss: 3.6957 - val_accuracy: 0.4000\n",
      "Epoch 71/100\n",
      "20/20 [==============================] - 7s 345ms/step - loss: 0.7158 - accuracy: 0.7828 - val_loss: 3.3621 - val_accuracy: 0.3850\n",
      "Epoch 72/100\n",
      "20/20 [==============================] - 5s 274ms/step - loss: 0.6154 - accuracy: 0.8125 - val_loss: 3.3779 - val_accuracy: 0.3300\n",
      "Epoch 73/100\n",
      "20/20 [==============================] - 7s 327ms/step - loss: 0.5754 - accuracy: 0.8094 - val_loss: 3.3392 - val_accuracy: 0.3950\n",
      "Epoch 74/100\n",
      "20/20 [==============================] - 6s 295ms/step - loss: 0.5688 - accuracy: 0.8219 - val_loss: 3.6933 - val_accuracy: 0.3250\n",
      "Epoch 75/100\n",
      "20/20 [==============================] - 6s 276ms/step - loss: 0.5603 - accuracy: 0.8297 - val_loss: 3.6419 - val_accuracy: 0.4000\n",
      "Epoch 76/100\n",
      "20/20 [==============================] - 6s 300ms/step - loss: 0.5373 - accuracy: 0.8250 - val_loss: 3.4265 - val_accuracy: 0.3700\n",
      "Epoch 77/100\n",
      "20/20 [==============================] - 6s 291ms/step - loss: 0.5004 - accuracy: 0.8391 - val_loss: 3.9720 - val_accuracy: 0.3800\n",
      "Epoch 78/100\n",
      "20/20 [==============================] - 6s 291ms/step - loss: 0.5250 - accuracy: 0.8313 - val_loss: 3.3858 - val_accuracy: 0.3950\n",
      "Epoch 79/100\n",
      "20/20 [==============================] - 6s 277ms/step - loss: 0.4933 - accuracy: 0.8328 - val_loss: 3.6905 - val_accuracy: 0.3850\n",
      "Epoch 80/100\n",
      "20/20 [==============================] - 6s 275ms/step - loss: 0.5887 - accuracy: 0.8172 - val_loss: 3.6024 - val_accuracy: 0.3800\n",
      "Epoch 81/100\n",
      "20/20 [==============================] - 5s 270ms/step - loss: 0.5482 - accuracy: 0.8562 - val_loss: 3.7916 - val_accuracy: 0.3500\n",
      "Epoch 82/100\n",
      "20/20 [==============================] - 7s 355ms/step - loss: 0.5231 - accuracy: 0.8609 - val_loss: 3.6161 - val_accuracy: 0.3800\n",
      "Epoch 83/100\n",
      "20/20 [==============================] - 6s 324ms/step - loss: 0.5361 - accuracy: 0.8328 - val_loss: 3.3663 - val_accuracy: 0.3850\n",
      "Epoch 84/100\n",
      "20/20 [==============================] - 6s 303ms/step - loss: 0.4914 - accuracy: 0.8438 - val_loss: 3.4637 - val_accuracy: 0.4350\n",
      "Epoch 85/100\n",
      "20/20 [==============================] - 6s 297ms/step - loss: 0.5862 - accuracy: 0.8172 - val_loss: 3.6896 - val_accuracy: 0.3900\n",
      "Epoch 86/100\n",
      "20/20 [==============================] - 5s 273ms/step - loss: 0.5458 - accuracy: 0.8275 - val_loss: 3.9056 - val_accuracy: 0.4050\n",
      "Epoch 87/100\n",
      "20/20 [==============================] - 6s 297ms/step - loss: 0.5012 - accuracy: 0.8625 - val_loss: 3.9362 - val_accuracy: 0.4100\n",
      "Epoch 88/100\n",
      "20/20 [==============================] - 5s 269ms/step - loss: 0.5600 - accuracy: 0.8234 - val_loss: 3.9184 - val_accuracy: 0.3950\n",
      "Epoch 89/100\n",
      "20/20 [==============================] - 6s 294ms/step - loss: 0.4693 - accuracy: 0.8422 - val_loss: 3.9524 - val_accuracy: 0.3750\n",
      "Epoch 90/100\n",
      "20/20 [==============================] - 5s 272ms/step - loss: 0.5588 - accuracy: 0.8234 - val_loss: 3.7421 - val_accuracy: 0.4050\n",
      "Epoch 91/100\n",
      "20/20 [==============================] - 5s 270ms/step - loss: 0.5253 - accuracy: 0.8219 - val_loss: 3.9127 - val_accuracy: 0.4150\n",
      "Epoch 92/100\n",
      "20/20 [==============================] - 5s 267ms/step - loss: 0.5623 - accuracy: 0.8219 - val_loss: 3.7798 - val_accuracy: 0.3900\n",
      "Epoch 93/100\n",
      "20/20 [==============================] - 5s 267ms/step - loss: 0.5278 - accuracy: 0.8313 - val_loss: 3.9145 - val_accuracy: 0.3950\n",
      "Epoch 94/100\n",
      "20/20 [==============================] - 5s 265ms/step - loss: 0.5000 - accuracy: 0.8406 - val_loss: 3.7443 - val_accuracy: 0.3750\n",
      "Epoch 95/100\n",
      "20/20 [==============================] - 6s 295ms/step - loss: 0.4774 - accuracy: 0.8562 - val_loss: 3.9547 - val_accuracy: 0.3950\n",
      "Epoch 96/100\n",
      "20/20 [==============================] - 6s 315ms/step - loss: 0.4497 - accuracy: 0.8656 - val_loss: 3.7060 - val_accuracy: 0.3950\n",
      "Epoch 97/100\n",
      "20/20 [==============================] - 5s 265ms/step - loss: 0.4625 - accuracy: 0.8531 - val_loss: 3.9913 - val_accuracy: 0.3950\n",
      "Epoch 98/100\n",
      "20/20 [==============================] - 6s 297ms/step - loss: 0.5093 - accuracy: 0.8391 - val_loss: 4.0168 - val_accuracy: 0.3800\n",
      "Epoch 99/100\n",
      "20/20 [==============================] - 6s 317ms/step - loss: 0.5306 - accuracy: 0.8281 - val_loss: 4.1629 - val_accuracy: 0.4050\n",
      "Epoch 100/100\n",
      "20/20 [==============================] - 6s 278ms/step - loss: 0.4864 - accuracy: 0.8438 - val_loss: 3.5858 - val_accuracy: 0.3950\n"
     ]
    },
    {
     "data": {
      "text/plain": [
       "<tensorflow.python.keras.callbacks.History at 0x18ccbee1a88>"
      ]
     },
     "execution_count": 60,
     "metadata": {},
     "output_type": "execute_result"
    }
   ],
   "source": [
    "model.fit(train, \\\n",
    "          epochs=100, \\\n",
    "          steps_per_epoch=20, \\\n",
    "          validation_data=test, \\\n",
    "          callbacks=callbacks_list)"
   ]
  },
  {
   "cell_type": "markdown",
   "metadata": {},
   "source": [
    "Seems like the validation accuracy is converging around 0.40. Model is still overfitting."
   ]
  },
  {
   "cell_type": "code",
   "execution_count": null,
   "metadata": {},
   "outputs": [],
   "source": []
  },
  {
   "cell_type": "code",
   "execution_count": null,
   "metadata": {},
   "outputs": [],
   "source": []
  },
  {
   "cell_type": "markdown",
   "metadata": {},
   "source": [
    "# Attempt 3"
   ]
  },
  {
   "cell_type": "markdown",
   "metadata": {},
   "source": [
    "### Create Weight Checkpoint"
   ]
  },
  {
   "cell_type": "code",
   "execution_count": 3,
   "metadata": {},
   "outputs": [],
   "source": [
    "checkpoint = ModelCheckpoint('weights.hdf5', \\\n",
    "                              mode='max', \\\n",
    "                              monitor='val_accuracy', \\\n",
    "                              save_best_only=True)\n",
    "callbacks_list=[checkpoint]"
   ]
  },
  {
   "cell_type": "markdown",
   "metadata": {},
   "source": [
    "### Datagen"
   ]
  },
  {
   "cell_type": "code",
   "execution_count": 4,
   "metadata": {},
   "outputs": [],
   "source": [
    "trainpath = '../data/raw/imgs/train'\n",
    "testpath = '../data/raw/imgs/testlabeled'"
   ]
  },
  {
   "cell_type": "code",
   "execution_count": 5,
   "metadata": {},
   "outputs": [],
   "source": [
    "datagen = keras.preprocessing.image.ImageDataGenerator()\n",
    "testdatagen = keras.preprocessing.image.ImageDataGenerator()"
   ]
  },
  {
   "cell_type": "code",
   "execution_count": 6,
   "metadata": {},
   "outputs": [
    {
     "name": "stdout",
     "output_type": "stream",
     "text": [
      "Found 22424 images belonging to 10 classes.\n"
     ]
    }
   ],
   "source": [
    "train = datagen.flow_from_directory(trainpath)"
   ]
  },
  {
   "cell_type": "code",
   "execution_count": 7,
   "metadata": {},
   "outputs": [
    {
     "name": "stdout",
     "output_type": "stream",
     "text": [
      "Found 200 images belonging to 10 classes.\n"
     ]
    }
   ],
   "source": [
    "test = datagen.flow_from_directory(testpath)"
   ]
  },
  {
   "cell_type": "markdown",
   "metadata": {},
   "source": [
    "### Build Model"
   ]
  },
  {
   "cell_type": "code",
   "execution_count": 8,
   "metadata": {},
   "outputs": [],
   "source": [
    "model = Sequential()"
   ]
  },
  {
   "cell_type": "code",
   "execution_count": 9,
   "metadata": {},
   "outputs": [],
   "source": [
    "model.add(Conv2D(10, kernel_size=3, activation='relu', input_shape=(256, 256, 3)))"
   ]
  },
  {
   "cell_type": "markdown",
   "metadata": {},
   "source": [
    "Add BatchNormalization()"
   ]
  },
  {
   "cell_type": "code",
   "execution_count": 10,
   "metadata": {},
   "outputs": [],
   "source": [
    "model.add(BatchNormalization())"
   ]
  },
  {
   "cell_type": "code",
   "execution_count": 11,
   "metadata": {},
   "outputs": [],
   "source": [
    "model.add(Conv2D(10, kernel_size=3, activation='relu'))"
   ]
  },
  {
   "cell_type": "code",
   "execution_count": 12,
   "metadata": {},
   "outputs": [],
   "source": [
    "model.add(MaxPool2D(30))"
   ]
  },
  {
   "cell_type": "code",
   "execution_count": 13,
   "metadata": {},
   "outputs": [],
   "source": [
    "model.add(Flatten())"
   ]
  },
  {
   "cell_type": "code",
   "execution_count": 14,
   "metadata": {},
   "outputs": [],
   "source": [
    "model.add(Dense(10, activation='softmax'))"
   ]
  },
  {
   "cell_type": "code",
   "execution_count": 15,
   "metadata": {},
   "outputs": [],
   "source": [
    "model.compile(optimizer='adam', loss='categorical_crossentropy', metrics=['accuracy'])"
   ]
  },
  {
   "cell_type": "code",
   "execution_count": 16,
   "metadata": {},
   "outputs": [
    {
     "name": "stdout",
     "output_type": "stream",
     "text": [
      "Model: \"sequential\"\n",
      "_________________________________________________________________\n",
      "Layer (type)                 Output Shape              Param #   \n",
      "=================================================================\n",
      "conv2d (Conv2D)              (None, 254, 254, 10)      280       \n",
      "_________________________________________________________________\n",
      "batch_normalization (BatchNo (None, 254, 254, 10)      40        \n",
      "_________________________________________________________________\n",
      "conv2d_1 (Conv2D)            (None, 252, 252, 10)      910       \n",
      "_________________________________________________________________\n",
      "max_pooling2d (MaxPooling2D) (None, 8, 8, 10)          0         \n",
      "_________________________________________________________________\n",
      "flatten (Flatten)            (None, 640)               0         \n",
      "_________________________________________________________________\n",
      "dense (Dense)                (None, 10)                6410      \n",
      "=================================================================\n",
      "Total params: 7,640\n",
      "Trainable params: 7,620\n",
      "Non-trainable params: 20\n",
      "_________________________________________________________________\n"
     ]
    }
   ],
   "source": [
    "model.summary()"
   ]
  },
  {
   "cell_type": "markdown",
   "metadata": {},
   "source": [
    "### Fit Model"
   ]
  },
  {
   "cell_type": "code",
   "execution_count": 17,
   "metadata": {},
   "outputs": [
    {
     "name": "stdout",
     "output_type": "stream",
     "text": [
      "WARNING:tensorflow:sample_weight modes were coerced from\n",
      "  ...\n",
      "    to  \n",
      "  ['...']\n",
      "WARNING:tensorflow:sample_weight modes were coerced from\n",
      "  ...\n",
      "    to  \n",
      "  ['...']\n",
      "Train for 20 steps, validate for 7 steps\n",
      "Epoch 1/50\n",
      "20/20 [==============================] - 9s 435ms/step - loss: 5.4399 - accuracy: 0.1125 - val_loss: 8.7437 - val_accuracy: 0.1150\n",
      "Epoch 2/50\n",
      "20/20 [==============================] - 6s 316ms/step - loss: 2.9363 - accuracy: 0.1531 - val_loss: 4.9533 - val_accuracy: 0.1050\n",
      "Epoch 3/50\n",
      "20/20 [==============================] - 6s 300ms/step - loss: 2.3498 - accuracy: 0.2031 - val_loss: 3.3772 - val_accuracy: 0.1300\n",
      "Epoch 4/50\n",
      "20/20 [==============================] - 6s 323ms/step - loss: 2.2304 - accuracy: 0.2156 - val_loss: 3.0705 - val_accuracy: 0.1400\n",
      "Epoch 5/50\n",
      "20/20 [==============================] - 6s 310ms/step - loss: 2.1774 - accuracy: 0.2719 - val_loss: 2.8172 - val_accuracy: 0.1800\n",
      "Epoch 6/50\n",
      "20/20 [==============================] - 6s 309ms/step - loss: 2.0685 - accuracy: 0.2937 - val_loss: 2.6179 - val_accuracy: 0.1800\n",
      "Epoch 7/50\n",
      "20/20 [==============================] - 6s 286ms/step - loss: 2.0043 - accuracy: 0.3250 - val_loss: 2.5920 - val_accuracy: 0.1800\n",
      "Epoch 8/50\n",
      "20/20 [==============================] - 6s 316ms/step - loss: 1.8946 - accuracy: 0.3453 - val_loss: 2.4626 - val_accuracy: 0.1850\n",
      "Epoch 9/50\n",
      "20/20 [==============================] - 6s 315ms/step - loss: 1.7566 - accuracy: 0.4156 - val_loss: 2.4825 - val_accuracy: 0.2300\n",
      "Epoch 10/50\n",
      "20/20 [==============================] - 6s 282ms/step - loss: 1.7598 - accuracy: 0.4297 - val_loss: 2.5641 - val_accuracy: 0.2200\n",
      "Epoch 11/50\n",
      "20/20 [==============================] - 6s 277ms/step - loss: 1.6109 - accuracy: 0.4750 - val_loss: 2.4381 - val_accuracy: 0.2200\n",
      "Epoch 12/50\n",
      "20/20 [==============================] - 6s 284ms/step - loss: 1.5436 - accuracy: 0.5078 - val_loss: 2.3842 - val_accuracy: 0.2500\n",
      "Epoch 13/50\n",
      "20/20 [==============================] - 8s 395ms/step - loss: 1.5970 - accuracy: 0.5063 - val_loss: 2.6136 - val_accuracy: 0.2400\n",
      "Epoch 14/50\n",
      "20/20 [==============================] - 6s 293ms/step - loss: 1.5484 - accuracy: 0.5109 - val_loss: 2.4742 - val_accuracy: 0.2900\n",
      "Epoch 15/50\n",
      "20/20 [==============================] - 6s 288ms/step - loss: 1.4577 - accuracy: 0.5266 - val_loss: 2.4171 - val_accuracy: 0.2900\n",
      "Epoch 16/50\n",
      "20/20 [==============================] - 6s 287ms/step - loss: 1.4005 - accuracy: 0.5516 - val_loss: 2.3668 - val_accuracy: 0.3000\n",
      "Epoch 17/50\n",
      "20/20 [==============================] - 6s 277ms/step - loss: 1.2099 - accuracy: 0.6108 - val_loss: 2.4424 - val_accuracy: 0.3300\n",
      "Epoch 18/50\n",
      "20/20 [==============================] - 6s 289ms/step - loss: 1.2575 - accuracy: 0.5969 - val_loss: 2.3868 - val_accuracy: 0.3150\n",
      "Epoch 19/50\n",
      "20/20 [==============================] - 6s 279ms/step - loss: 1.2500 - accuracy: 0.5906 - val_loss: 2.4876 - val_accuracy: 0.3600\n",
      "Epoch 20/50\n",
      "20/20 [==============================] - 6s 290ms/step - loss: 1.1949 - accuracy: 0.6406 - val_loss: 2.7400 - val_accuracy: 0.3150\n",
      "Epoch 21/50\n",
      "20/20 [==============================] - 6s 277ms/step - loss: 1.1701 - accuracy: 0.6219 - val_loss: 2.5915 - val_accuracy: 0.3350\n",
      "Epoch 22/50\n",
      "20/20 [==============================] - 5s 273ms/step - loss: 1.0962 - accuracy: 0.6500 - val_loss: 2.4804 - val_accuracy: 0.3500\n",
      "Epoch 23/50\n",
      "20/20 [==============================] - 6s 294ms/step - loss: 0.9956 - accuracy: 0.6906 - val_loss: 2.4636 - val_accuracy: 0.3400\n",
      "Epoch 24/50\n",
      "20/20 [==============================] - 6s 282ms/step - loss: 1.0262 - accuracy: 0.6656 - val_loss: 2.4629 - val_accuracy: 0.3300\n",
      "Epoch 25/50\n",
      "20/20 [==============================] - 6s 279ms/step - loss: 1.0029 - accuracy: 0.6516 - val_loss: 2.5992 - val_accuracy: 0.3550\n",
      "Epoch 26/50\n",
      "20/20 [==============================] - 6s 278ms/step - loss: 0.9186 - accuracy: 0.7141 - val_loss: 2.4109 - val_accuracy: 0.3700\n",
      "Epoch 27/50\n",
      "20/20 [==============================] - 6s 283ms/step - loss: 0.9232 - accuracy: 0.6938 - val_loss: 2.5976 - val_accuracy: 0.3850\n",
      "Epoch 28/50\n",
      "20/20 [==============================] - 5s 273ms/step - loss: 0.8236 - accuracy: 0.7422 - val_loss: 2.5849 - val_accuracy: 0.3750\n",
      "Epoch 29/50\n",
      "20/20 [==============================] - 6s 293ms/step - loss: 0.7806 - accuracy: 0.7422 - val_loss: 2.5244 - val_accuracy: 0.4000\n",
      "Epoch 30/50\n",
      "20/20 [==============================] - 5s 271ms/step - loss: 0.7305 - accuracy: 0.7563 - val_loss: 2.4747 - val_accuracy: 0.3650\n",
      "Epoch 31/50\n",
      "20/20 [==============================] - 6s 278ms/step - loss: 0.7543 - accuracy: 0.7484 - val_loss: 2.6294 - val_accuracy: 0.4050\n",
      "Epoch 32/50\n",
      "20/20 [==============================] - 5s 274ms/step - loss: 0.7383 - accuracy: 0.7578 - val_loss: 2.5512 - val_accuracy: 0.3900\n",
      "Epoch 33/50\n",
      "20/20 [==============================] - 5s 271ms/step - loss: 0.7487 - accuracy: 0.7641 - val_loss: 2.7353 - val_accuracy: 0.3800\n",
      "Epoch 34/50\n",
      "20/20 [==============================] - 5s 270ms/step - loss: 0.6780 - accuracy: 0.7734 - val_loss: 2.6022 - val_accuracy: 0.3900\n",
      "Epoch 35/50\n",
      "20/20 [==============================] - 6s 277ms/step - loss: 0.7119 - accuracy: 0.7828 - val_loss: 2.8338 - val_accuracy: 0.3850\n",
      "Epoch 36/50\n",
      "20/20 [==============================] - 6s 284ms/step - loss: 0.6482 - accuracy: 0.7969 - val_loss: 2.7374 - val_accuracy: 0.4200\n",
      "Epoch 37/50\n",
      "20/20 [==============================] - 5s 272ms/step - loss: 0.6761 - accuracy: 0.7688 - val_loss: 2.8879 - val_accuracy: 0.4050\n",
      "Epoch 38/50\n",
      "20/20 [==============================] - 6s 276ms/step - loss: 0.7250 - accuracy: 0.7625 - val_loss: 2.7306 - val_accuracy: 0.3750\n",
      "Epoch 39/50\n",
      "20/20 [==============================] - 5s 270ms/step - loss: 0.6976 - accuracy: 0.7781 - val_loss: 2.6932 - val_accuracy: 0.3800\n",
      "Epoch 40/50\n",
      "20/20 [==============================] - 6s 276ms/step - loss: 0.5360 - accuracy: 0.8453 - val_loss: 2.6582 - val_accuracy: 0.4000\n",
      "Epoch 41/50\n",
      "20/20 [==============================] - 5s 273ms/step - loss: 0.5319 - accuracy: 0.8484 - val_loss: 2.6796 - val_accuracy: 0.3700\n",
      "Epoch 42/50\n",
      "20/20 [==============================] - 6s 275ms/step - loss: 0.5961 - accuracy: 0.8250 - val_loss: 2.6223 - val_accuracy: 0.4200\n",
      "Epoch 43/50\n",
      "20/20 [==============================] - 5s 270ms/step - loss: 0.5875 - accuracy: 0.8141 - val_loss: 2.9867 - val_accuracy: 0.3950\n",
      "Epoch 44/50\n",
      "20/20 [==============================] - 5s 268ms/step - loss: 0.5526 - accuracy: 0.8203 - val_loss: 3.0292 - val_accuracy: 0.4100\n",
      "Epoch 45/50\n",
      "20/20 [==============================] - 5s 267ms/step - loss: 0.5465 - accuracy: 0.8391 - val_loss: 2.7473 - val_accuracy: 0.3850\n",
      "Epoch 46/50\n",
      "20/20 [==============================] - 6s 275ms/step - loss: 0.5241 - accuracy: 0.8359 - val_loss: 2.8180 - val_accuracy: 0.4300\n",
      "Epoch 47/50\n",
      "20/20 [==============================] - 6s 276ms/step - loss: 0.5235 - accuracy: 0.8406 - val_loss: 2.7691 - val_accuracy: 0.3500\n",
      "Epoch 48/50\n",
      "20/20 [==============================] - 5s 274ms/step - loss: 0.6045 - accuracy: 0.8016 - val_loss: 2.7131 - val_accuracy: 0.4200\n",
      "Epoch 49/50\n",
      "20/20 [==============================] - 5s 273ms/step - loss: 0.4461 - accuracy: 0.8703 - val_loss: 2.8530 - val_accuracy: 0.3800\n",
      "Epoch 50/50\n",
      "20/20 [==============================] - 5s 268ms/step - loss: 0.4806 - accuracy: 0.8469 - val_loss: 3.0367 - val_accuracy: 0.3950\n"
     ]
    },
    {
     "data": {
      "text/plain": [
       "<tensorflow.python.keras.callbacks.History at 0x248b790ff48>"
      ]
     },
     "execution_count": 17,
     "metadata": {},
     "output_type": "execute_result"
    }
   ],
   "source": [
    "model.fit(train, \\\n",
    "          epochs=50, \\\n",
    "          steps_per_epoch=20, \\\n",
    "          validation_data=test, \\\n",
    "          callbacks=callbacks_list)"
   ]
  },
  {
   "cell_type": "code",
   "execution_count": null,
   "metadata": {},
   "outputs": [],
   "source": []
  },
  {
   "cell_type": "code",
   "execution_count": null,
   "metadata": {},
   "outputs": [],
   "source": []
  },
  {
   "cell_type": "markdown",
   "metadata": {},
   "source": [
    "# Attempt 4"
   ]
  },
  {
   "cell_type": "markdown",
   "metadata": {},
   "source": [
    "### Create Weight Checkpoint"
   ]
  },
  {
   "cell_type": "code",
   "execution_count": 18,
   "metadata": {},
   "outputs": [],
   "source": [
    "checkpoint = ModelCheckpoint('weights.hdf5', \\\n",
    "                              mode='max', \\\n",
    "                              monitor='val_accuracy', \\\n",
    "                              save_best_only=True)\n",
    "callbacks_list=[checkpoint]"
   ]
  },
  {
   "cell_type": "markdown",
   "metadata": {},
   "source": [
    "### Datagen"
   ]
  },
  {
   "cell_type": "code",
   "execution_count": 19,
   "metadata": {},
   "outputs": [],
   "source": [
    "trainpath = '../data/raw/imgs/train'\n",
    "testpath = '../data/raw/imgs/testlabeled'"
   ]
  },
  {
   "cell_type": "code",
   "execution_count": 20,
   "metadata": {},
   "outputs": [],
   "source": [
    "datagen = keras.preprocessing.image.ImageDataGenerator()\n",
    "testdatagen = keras.preprocessing.image.ImageDataGenerator()"
   ]
  },
  {
   "cell_type": "code",
   "execution_count": 21,
   "metadata": {},
   "outputs": [
    {
     "name": "stdout",
     "output_type": "stream",
     "text": [
      "Found 22424 images belonging to 10 classes.\n"
     ]
    }
   ],
   "source": [
    "train = datagen.flow_from_directory(trainpath)"
   ]
  },
  {
   "cell_type": "code",
   "execution_count": 22,
   "metadata": {},
   "outputs": [
    {
     "name": "stdout",
     "output_type": "stream",
     "text": [
      "Found 200 images belonging to 10 classes.\n"
     ]
    }
   ],
   "source": [
    "test = datagen.flow_from_directory(testpath)"
   ]
  },
  {
   "cell_type": "markdown",
   "metadata": {},
   "source": [
    "### Build Model"
   ]
  },
  {
   "cell_type": "code",
   "execution_count": 23,
   "metadata": {},
   "outputs": [],
   "source": [
    "model = Sequential()"
   ]
  },
  {
   "cell_type": "code",
   "execution_count": 24,
   "metadata": {},
   "outputs": [],
   "source": [
    "model.add(Conv2D(10, kernel_size=3, activation='relu', input_shape=(256, 256, 3)))"
   ]
  },
  {
   "cell_type": "markdown",
   "metadata": {},
   "source": [
    "Add Dropout layer"
   ]
  },
  {
   "cell_type": "code",
   "execution_count": 25,
   "metadata": {},
   "outputs": [],
   "source": [
    "model.add(Dropout(0.25))"
   ]
  },
  {
   "cell_type": "code",
   "execution_count": 26,
   "metadata": {},
   "outputs": [],
   "source": [
    "model.add(Conv2D(10, kernel_size=3, activation='relu'))"
   ]
  },
  {
   "cell_type": "code",
   "execution_count": 27,
   "metadata": {},
   "outputs": [],
   "source": [
    "model.add(MaxPool2D(30))"
   ]
  },
  {
   "cell_type": "code",
   "execution_count": 28,
   "metadata": {},
   "outputs": [],
   "source": [
    "model.add(Flatten())"
   ]
  },
  {
   "cell_type": "code",
   "execution_count": 29,
   "metadata": {},
   "outputs": [],
   "source": [
    "model.add(Dense(10, activation='softmax'))"
   ]
  },
  {
   "cell_type": "code",
   "execution_count": 30,
   "metadata": {},
   "outputs": [],
   "source": [
    "model.compile(optimizer='adam', loss='categorical_crossentropy', metrics=['accuracy'])"
   ]
  },
  {
   "cell_type": "code",
   "execution_count": 31,
   "metadata": {},
   "outputs": [
    {
     "name": "stdout",
     "output_type": "stream",
     "text": [
      "Model: \"sequential_1\"\n",
      "_________________________________________________________________\n",
      "Layer (type)                 Output Shape              Param #   \n",
      "=================================================================\n",
      "conv2d_2 (Conv2D)            (None, 254, 254, 10)      280       \n",
      "_________________________________________________________________\n",
      "dropout (Dropout)            (None, 254, 254, 10)      0         \n",
      "_________________________________________________________________\n",
      "conv2d_3 (Conv2D)            (None, 252, 252, 10)      910       \n",
      "_________________________________________________________________\n",
      "max_pooling2d_1 (MaxPooling2 (None, 8, 8, 10)          0         \n",
      "_________________________________________________________________\n",
      "flatten_1 (Flatten)          (None, 640)               0         \n",
      "_________________________________________________________________\n",
      "dense_1 (Dense)              (None, 10)                6410      \n",
      "=================================================================\n",
      "Total params: 7,600\n",
      "Trainable params: 7,600\n",
      "Non-trainable params: 0\n",
      "_________________________________________________________________\n"
     ]
    }
   ],
   "source": [
    "model.summary()"
   ]
  },
  {
   "cell_type": "markdown",
   "metadata": {},
   "source": [
    "### Fit Model"
   ]
  },
  {
   "cell_type": "code",
   "execution_count": 32,
   "metadata": {},
   "outputs": [
    {
     "name": "stdout",
     "output_type": "stream",
     "text": [
      "WARNING:tensorflow:sample_weight modes were coerced from\n",
      "  ...\n",
      "    to  \n",
      "  ['...']\n",
      "WARNING:tensorflow:sample_weight modes were coerced from\n",
      "  ...\n",
      "    to  \n",
      "  ['...']\n",
      "Train for 20 steps, validate for 7 steps\n",
      "Epoch 1/50\n",
      "20/20 [==============================] - 6s 317ms/step - loss: 115.0808 - accuracy: 0.1109 - val_loss: 48.1421 - val_accuracy: 0.0800\n",
      "Epoch 2/50\n",
      "20/20 [==============================] - 5s 272ms/step - loss: 36.6576 - accuracy: 0.1094 - val_loss: 29.9051 - val_accuracy: 0.1000\n",
      "Epoch 3/50\n",
      "20/20 [==============================] - 5s 273ms/step - loss: 22.0444 - accuracy: 0.1281 - val_loss: 22.2663 - val_accuracy: 0.1000\n",
      "Epoch 4/50\n",
      "20/20 [==============================] - 5s 273ms/step - loss: 16.3353 - accuracy: 0.1266 - val_loss: 18.3861 - val_accuracy: 0.1250\n",
      "Epoch 5/50\n",
      "20/20 [==============================] - 5s 273ms/step - loss: 13.8963 - accuracy: 0.1531 - val_loss: 15.0430 - val_accuracy: 0.1300\n",
      "Epoch 6/50\n",
      "20/20 [==============================] - 5s 273ms/step - loss: 10.6929 - accuracy: 0.1719 - val_loss: 13.0865 - val_accuracy: 0.1450\n",
      "Epoch 7/50\n",
      "20/20 [==============================] - 5s 265ms/step - loss: 9.1407 - accuracy: 0.1797 - val_loss: 11.0633 - val_accuracy: 0.1200\n",
      "Epoch 8/50\n",
      "20/20 [==============================] - 5s 270ms/step - loss: 7.6979 - accuracy: 0.1781 - val_loss: 9.2553 - val_accuracy: 0.1500\n",
      "Epoch 9/50\n",
      "20/20 [==============================] - 5s 271ms/step - loss: 6.8272 - accuracy: 0.1656 - val_loss: 7.9398 - val_accuracy: 0.1550\n",
      "Epoch 10/50\n",
      "20/20 [==============================] - 5s 267ms/step - loss: 5.5679 - accuracy: 0.1859 - val_loss: 6.5313 - val_accuracy: 0.1450\n",
      "Epoch 11/50\n",
      "20/20 [==============================] - 5s 274ms/step - loss: 4.9769 - accuracy: 0.1828 - val_loss: 5.6924 - val_accuracy: 0.1500\n",
      "Epoch 12/50\n",
      "20/20 [==============================] - 5s 270ms/step - loss: 4.5295 - accuracy: 0.1844 - val_loss: 4.9809 - val_accuracy: 0.1500\n",
      "Epoch 13/50\n",
      "20/20 [==============================] - 5s 267ms/step - loss: 3.8301 - accuracy: 0.1867 - val_loss: 4.4138 - val_accuracy: 0.1450\n",
      "Epoch 14/50\n",
      "20/20 [==============================] - 5s 270ms/step - loss: 3.5595 - accuracy: 0.2000 - val_loss: 4.0631 - val_accuracy: 0.1550\n",
      "Epoch 15/50\n",
      "20/20 [==============================] - 5s 267ms/step - loss: 3.5127 - accuracy: 0.1656 - val_loss: 3.8261 - val_accuracy: 0.1550\n",
      "Epoch 16/50\n",
      "20/20 [==============================] - 5s 264ms/step - loss: 3.1287 - accuracy: 0.1984 - val_loss: 3.5231 - val_accuracy: 0.1500\n",
      "Epoch 17/50\n",
      "20/20 [==============================] - 5s 266ms/step - loss: 2.9294 - accuracy: 0.2203 - val_loss: 3.2937 - val_accuracy: 0.1300\n",
      "Epoch 18/50\n",
      "20/20 [==============================] - 5s 266ms/step - loss: 2.8688 - accuracy: 0.1891 - val_loss: 3.1216 - val_accuracy: 0.1550\n",
      "Epoch 19/50\n",
      "20/20 [==============================] - 5s 270ms/step - loss: 2.7870 - accuracy: 0.1859 - val_loss: 3.0360 - val_accuracy: 0.1500\n",
      "Epoch 20/50\n",
      "20/20 [==============================] - 5s 269ms/step - loss: 2.6552 - accuracy: 0.2156 - val_loss: 2.9412 - val_accuracy: 0.1650\n",
      "Epoch 21/50\n",
      "20/20 [==============================] - 5s 266ms/step - loss: 2.6816 - accuracy: 0.1844 - val_loss: 2.8182 - val_accuracy: 0.1450\n",
      "Epoch 22/50\n",
      "20/20 [==============================] - 5s 267ms/step - loss: 2.5643 - accuracy: 0.2078 - val_loss: 2.7317 - val_accuracy: 0.1550\n",
      "Epoch 23/50\n",
      "20/20 [==============================] - 5s 265ms/step - loss: 2.4546 - accuracy: 0.1891 - val_loss: 2.6677 - val_accuracy: 0.1500\n",
      "Epoch 24/50\n",
      "20/20 [==============================] - 5s 268ms/step - loss: 2.3897 - accuracy: 0.1922 - val_loss: 2.6486 - val_accuracy: 0.1500\n",
      "Epoch 25/50\n",
      "20/20 [==============================] - 5s 261ms/step - loss: 2.3091 - accuracy: 0.2328 - val_loss: 2.6324 - val_accuracy: 0.1450\n",
      "Epoch 26/50\n",
      "20/20 [==============================] - 5s 263ms/step - loss: 2.3846 - accuracy: 0.2188 - val_loss: 2.6048 - val_accuracy: 0.1600\n",
      "Epoch 27/50\n",
      "20/20 [==============================] - 5s 265ms/step - loss: 2.2620 - accuracy: 0.2516 - val_loss: 2.5824 - val_accuracy: 0.1600\n",
      "Epoch 28/50\n",
      "20/20 [==============================] - 5s 267ms/step - loss: 2.2723 - accuracy: 0.2203 - val_loss: 2.4976 - val_accuracy: 0.1550\n",
      "Epoch 29/50\n",
      "20/20 [==============================] - 5s 266ms/step - loss: 2.1614 - accuracy: 0.2422 - val_loss: 2.4777 - val_accuracy: 0.1650\n",
      "Epoch 30/50\n",
      "20/20 [==============================] - 5s 269ms/step - loss: 2.1973 - accuracy: 0.2406 - val_loss: 2.4809 - val_accuracy: 0.1750\n",
      "Epoch 31/50\n",
      "20/20 [==============================] - 5s 268ms/step - loss: 2.2048 - accuracy: 0.2391 - val_loss: 2.5118 - val_accuracy: 0.1450\n",
      "Epoch 32/50\n",
      "20/20 [==============================] - 5s 264ms/step - loss: 2.1481 - accuracy: 0.2437 - val_loss: 2.4123 - val_accuracy: 0.1700\n",
      "Epoch 33/50\n",
      "20/20 [==============================] - 5s 267ms/step - loss: 2.1526 - accuracy: 0.2375 - val_loss: 2.4310 - val_accuracy: 0.1650\n",
      "Epoch 34/50\n",
      "20/20 [==============================] - 5s 271ms/step - loss: 2.1508 - accuracy: 0.2344 - val_loss: 2.4092 - val_accuracy: 0.1650\n",
      "Epoch 35/50\n",
      "20/20 [==============================] - 5s 267ms/step - loss: 2.1311 - accuracy: 0.2642 - val_loss: 2.3959 - val_accuracy: 0.1800\n",
      "Epoch 36/50\n",
      "20/20 [==============================] - 5s 266ms/step - loss: 2.0676 - accuracy: 0.2844 - val_loss: 2.3693 - val_accuracy: 0.1600\n",
      "Epoch 37/50\n",
      "20/20 [==============================] - 5s 268ms/step - loss: 2.1011 - accuracy: 0.2844 - val_loss: 2.3653 - val_accuracy: 0.1600\n",
      "Epoch 38/50\n",
      "20/20 [==============================] - 5s 266ms/step - loss: 2.0811 - accuracy: 0.2875 - val_loss: 2.3783 - val_accuracy: 0.1550\n",
      "Epoch 39/50\n",
      "20/20 [==============================] - 5s 267ms/step - loss: 2.0847 - accuracy: 0.2656 - val_loss: 2.4057 - val_accuracy: 0.1550\n",
      "Epoch 40/50\n",
      "20/20 [==============================] - 5s 269ms/step - loss: 2.0959 - accuracy: 0.2625 - val_loss: 2.3735 - val_accuracy: 0.1550\n",
      "Epoch 41/50\n",
      "20/20 [==============================] - 5s 264ms/step - loss: 2.0104 - accuracy: 0.2785 - val_loss: 2.3671 - val_accuracy: 0.1700\n",
      "Epoch 42/50\n",
      "20/20 [==============================] - 6s 283ms/step - loss: 2.0359 - accuracy: 0.3016 - val_loss: 2.3797 - val_accuracy: 0.1700\n",
      "Epoch 43/50\n",
      "20/20 [==============================] - 5s 272ms/step - loss: 2.0361 - accuracy: 0.2984 - val_loss: 2.3536 - val_accuracy: 0.1450\n",
      "Epoch 44/50\n",
      "20/20 [==============================] - 5s 268ms/step - loss: 2.0315 - accuracy: 0.2844 - val_loss: 2.3426 - val_accuracy: 0.1500\n",
      "Epoch 45/50\n",
      "20/20 [==============================] - 6s 277ms/step - loss: 1.9571 - accuracy: 0.3031 - val_loss: 2.3469 - val_accuracy: 0.1500\n",
      "Epoch 46/50\n",
      "20/20 [==============================] - 6s 276ms/step - loss: 1.9666 - accuracy: 0.3016 - val_loss: 2.3106 - val_accuracy: 0.1700\n",
      "Epoch 47/50\n",
      "20/20 [==============================] - 5s 269ms/step - loss: 2.0015 - accuracy: 0.2891 - val_loss: 2.3686 - val_accuracy: 0.1650\n",
      "Epoch 48/50\n",
      "20/20 [==============================] - 5s 271ms/step - loss: 2.0193 - accuracy: 0.3047 - val_loss: 2.3768 - val_accuracy: 0.1650\n",
      "Epoch 49/50\n",
      "20/20 [==============================] - 5s 269ms/step - loss: 1.9354 - accuracy: 0.3250 - val_loss: 2.3272 - val_accuracy: 0.1650\n",
      "Epoch 50/50\n",
      "20/20 [==============================] - 5s 274ms/step - loss: 1.9787 - accuracy: 0.3078 - val_loss: 2.3184 - val_accuracy: 0.1750\n"
     ]
    },
    {
     "data": {
      "text/plain": [
       "<tensorflow.python.keras.callbacks.History at 0x248284abe48>"
      ]
     },
     "execution_count": 32,
     "metadata": {},
     "output_type": "execute_result"
    }
   ],
   "source": [
    "model.fit(train, \\\n",
    "          epochs=50, \\\n",
    "          steps_per_epoch=20, \\\n",
    "          validation_data=test, \\\n",
    "          callbacks=callbacks_list)"
   ]
  },
  {
   "cell_type": "code",
   "execution_count": null,
   "metadata": {},
   "outputs": [],
   "source": []
  }
 ],
 "metadata": {
  "kernelspec": {
   "display_name": "Python 3",
   "language": "python",
   "name": "python3"
  },
  "language_info": {
   "codemirror_mode": {
    "name": "ipython",
    "version": 3
   },
   "file_extension": ".py",
   "mimetype": "text/x-python",
   "name": "python",
   "nbconvert_exporter": "python",
   "pygments_lexer": "ipython3",
   "version": "3.7.9"
  },
  "toc": {
   "base_numbering": 1,
   "nav_menu": {},
   "number_sections": true,
   "sideBar": true,
   "skip_h1_title": false,
   "title_cell": "Table of Contents",
   "title_sidebar": "Contents",
   "toc_cell": false,
   "toc_position": {},
   "toc_section_display": true,
   "toc_window_display": false
  },
  "varInspector": {
   "cols": {
    "lenName": 16,
    "lenType": 16,
    "lenVar": 40
   },
   "kernels_config": {
    "python": {
     "delete_cmd_postfix": "",
     "delete_cmd_prefix": "del ",
     "library": "var_list.py",
     "varRefreshCmd": "print(var_dic_list())"
    },
    "r": {
     "delete_cmd_postfix": ") ",
     "delete_cmd_prefix": "rm(",
     "library": "var_list.r",
     "varRefreshCmd": "cat(var_dic_list()) "
    }
   },
   "types_to_exclude": [
    "module",
    "function",
    "builtin_function_or_method",
    "instance",
    "_Feature"
   ],
   "window_display": false
  }
 },
 "nbformat": 4,
 "nbformat_minor": 4
}
