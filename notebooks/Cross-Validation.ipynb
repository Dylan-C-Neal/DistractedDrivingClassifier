{
 "cells": [
  {
   "cell_type": "markdown",
   "metadata": {},
   "source": [
    "# Pre-Work"
   ]
  },
  {
   "cell_type": "code",
   "execution_count": 1,
   "metadata": {},
   "outputs": [],
   "source": [
    "# Load modules\n",
    "import warnings\n",
    "warnings.filterwarnings(\"ignore\", category=FutureWarning)\n",
    "import tensorflow as tf\n",
    "import tensorflow.keras as keras\n",
    "from tensorflow.keras import Sequential\n",
    "from tensorflow.keras.layers import Conv2D, Dense, Flatten, MaxPool2D\n",
    "from tensorflow.keras.callbacks import ModelCheckpoint\n",
    "import numpy as np\n",
    "import os\n",
    "import pandas as pd\n",
    "import matplotlib.pyplot as plt\n",
    "%matplotlib inline\n",
    "import seaborn as sns"
   ]
  },
  {
   "cell_type": "code",
   "execution_count": 2,
   "metadata": {},
   "outputs": [],
   "source": [
    "sns.set()"
   ]
  },
  {
   "cell_type": "code",
   "execution_count": 3,
   "metadata": {},
   "outputs": [
    {
     "name": "stdout",
     "output_type": "stream",
     "text": [
      "1 Physical GPUs, 1 Logical GPUs\n"
     ]
    }
   ],
   "source": [
    "# Set memory limit on GPU to keep it from freezing up when fitting TensorFlow models later\n",
    "gpus = tf.config.experimental.list_physical_devices('GPU')\n",
    "if gpus:\n",
    "    # Restrict TensorFlow to only allocate 1GB * 2 of memory on the first GPU\n",
    "    try:\n",
    "        tf.config.experimental.set_virtual_device_configuration(gpus[0], \\\n",
    "                                                                [tf.config.experimental.\\\n",
    "                                                                 VirtualDeviceConfiguration\\\n",
    "                                                                 (memory_limit=1024 * 2)])\n",
    "        logical_gpus = tf.config.experimental.list_logical_devices('GPU')\n",
    "        print(len(gpus), \"Physical GPUs,\", len(logical_gpus), \"Logical GPUs\")\n",
    "    except RuntimeError as e:\n",
    "        # Virtual devices must be set before GPUs have been initialized\n",
    "        print(e)"
   ]
  },
  {
   "cell_type": "markdown",
   "metadata": {},
   "source": [
    "# Inspect Training Data Composition"
   ]
  },
  {
   "cell_type": "code",
   "execution_count": 4,
   "metadata": {},
   "outputs": [],
   "source": [
    "os.chdir('../data/raw')"
   ]
  },
  {
   "cell_type": "code",
   "execution_count": 5,
   "metadata": {
    "scrolled": true
   },
   "outputs": [
    {
     "data": {
      "text/html": [
       "<div>\n",
       "<style scoped>\n",
       "    .dataframe tbody tr th:only-of-type {\n",
       "        vertical-align: middle;\n",
       "    }\n",
       "\n",
       "    .dataframe tbody tr th {\n",
       "        vertical-align: top;\n",
       "    }\n",
       "\n",
       "    .dataframe thead th {\n",
       "        text-align: right;\n",
       "    }\n",
       "</style>\n",
       "<table border=\"1\" class=\"dataframe\">\n",
       "  <thead>\n",
       "    <tr style=\"text-align: right;\">\n",
       "      <th></th>\n",
       "      <th>subject</th>\n",
       "      <th>classname</th>\n",
       "      <th>img</th>\n",
       "    </tr>\n",
       "  </thead>\n",
       "  <tbody>\n",
       "    <tr>\n",
       "      <th>0</th>\n",
       "      <td>p002</td>\n",
       "      <td>c0</td>\n",
       "      <td>img_44733.jpg</td>\n",
       "    </tr>\n",
       "    <tr>\n",
       "      <th>1</th>\n",
       "      <td>p002</td>\n",
       "      <td>c0</td>\n",
       "      <td>img_72999.jpg</td>\n",
       "    </tr>\n",
       "    <tr>\n",
       "      <th>2</th>\n",
       "      <td>p002</td>\n",
       "      <td>c0</td>\n",
       "      <td>img_25094.jpg</td>\n",
       "    </tr>\n",
       "    <tr>\n",
       "      <th>3</th>\n",
       "      <td>p002</td>\n",
       "      <td>c0</td>\n",
       "      <td>img_69092.jpg</td>\n",
       "    </tr>\n",
       "    <tr>\n",
       "      <th>4</th>\n",
       "      <td>p002</td>\n",
       "      <td>c0</td>\n",
       "      <td>img_92629.jpg</td>\n",
       "    </tr>\n",
       "  </tbody>\n",
       "</table>\n",
       "</div>"
      ],
      "text/plain": [
       "  subject classname            img\n",
       "0    p002        c0  img_44733.jpg\n",
       "1    p002        c0  img_72999.jpg\n",
       "2    p002        c0  img_25094.jpg\n",
       "3    p002        c0  img_69092.jpg\n",
       "4    p002        c0  img_92629.jpg"
      ]
     },
     "execution_count": 5,
     "metadata": {},
     "output_type": "execute_result"
    }
   ],
   "source": [
    "# Load csv file with training set info\n",
    "df = pd.read_csv('driver_imgs_list.csv')\n",
    "df.head()"
   ]
  },
  {
   "cell_type": "markdown",
   "metadata": {},
   "source": [
    "The 'subject' column contains a different ID for each unique person in the training data."
   ]
  },
  {
   "cell_type": "code",
   "execution_count": 6,
   "metadata": {},
   "outputs": [
    {
     "name": "stdout",
     "output_type": "stream",
     "text": [
      "<class 'pandas.core.frame.DataFrame'>\n",
      "RangeIndex: 22424 entries, 0 to 22423\n",
      "Data columns (total 3 columns):\n",
      " #   Column     Non-Null Count  Dtype \n",
      "---  ------     --------------  ----- \n",
      " 0   subject    22424 non-null  object\n",
      " 1   classname  22424 non-null  object\n",
      " 2   img        22424 non-null  object\n",
      "dtypes: object(3)\n",
      "memory usage: 525.7+ KB\n"
     ]
    }
   ],
   "source": [
    "df.info()"
   ]
  },
  {
   "cell_type": "code",
   "execution_count": 7,
   "metadata": {},
   "outputs": [],
   "source": [
    "# Pull lists of unique subjects and classes\n",
    "sublist = df.subject.unique()\n",
    "classlist = df.classname.unique()"
   ]
  },
  {
   "cell_type": "markdown",
   "metadata": {},
   "source": [
    "## Inspect subject composition"
   ]
  },
  {
   "cell_type": "code",
   "execution_count": 8,
   "metadata": {},
   "outputs": [],
   "source": [
    "# Pull value counts of each subject and put into separate dataframe\n",
    "subjects = pd.DataFrame(df['subject'].value_counts())\n",
    "subjects = subjects.reset_index().rename(columns={'index':'subject', 'subject':'counts'})"
   ]
  },
  {
   "cell_type": "code",
   "execution_count": 9,
   "metadata": {},
   "outputs": [],
   "source": [
    "subjects.loc['mean', :] = subjects.iloc[:len(sublist)].mean()\n",
    "subjects.loc['std', :] = subjects.iloc[:len(sublist)].std()\n",
    "subjects.loc['min', :] = subjects.iloc[:len(sublist)].min(numeric_only=True)\n",
    "subjects.loc['median', :] = subjects.iloc[:len(sublist)].median()\n",
    "subjects.loc['max', :] = subjects.iloc[:len(sublist)].max(numeric_only=True)"
   ]
  },
  {
   "cell_type": "code",
   "execution_count": 10,
   "metadata": {},
   "outputs": [],
   "source": [
    "subjects[['counts']] = subjects[['counts']].astype(int)"
   ]
  },
  {
   "cell_type": "code",
   "execution_count": 11,
   "metadata": {
    "scrolled": false
   },
   "outputs": [
    {
     "data": {
      "text/html": [
       "<div>\n",
       "<style scoped>\n",
       "    .dataframe tbody tr th:only-of-type {\n",
       "        vertical-align: middle;\n",
       "    }\n",
       "\n",
       "    .dataframe tbody tr th {\n",
       "        vertical-align: top;\n",
       "    }\n",
       "\n",
       "    .dataframe thead th {\n",
       "        text-align: right;\n",
       "    }\n",
       "</style>\n",
       "<table border=\"1\" class=\"dataframe\">\n",
       "  <thead>\n",
       "    <tr style=\"text-align: right;\">\n",
       "      <th></th>\n",
       "      <th>subject</th>\n",
       "      <th>counts</th>\n",
       "    </tr>\n",
       "  </thead>\n",
       "  <tbody>\n",
       "    <tr>\n",
       "      <th>0</th>\n",
       "      <td>p021</td>\n",
       "      <td>1237</td>\n",
       "    </tr>\n",
       "    <tr>\n",
       "      <th>1</th>\n",
       "      <td>p022</td>\n",
       "      <td>1233</td>\n",
       "    </tr>\n",
       "    <tr>\n",
       "      <th>2</th>\n",
       "      <td>p024</td>\n",
       "      <td>1226</td>\n",
       "    </tr>\n",
       "    <tr>\n",
       "      <th>3</th>\n",
       "      <td>p026</td>\n",
       "      <td>1196</td>\n",
       "    </tr>\n",
       "    <tr>\n",
       "      <th>4</th>\n",
       "      <td>p016</td>\n",
       "      <td>1078</td>\n",
       "    </tr>\n",
       "    <tr>\n",
       "      <th>5</th>\n",
       "      <td>p066</td>\n",
       "      <td>1034</td>\n",
       "    </tr>\n",
       "    <tr>\n",
       "      <th>6</th>\n",
       "      <td>p049</td>\n",
       "      <td>1011</td>\n",
       "    </tr>\n",
       "    <tr>\n",
       "      <th>7</th>\n",
       "      <td>p051</td>\n",
       "      <td>920</td>\n",
       "    </tr>\n",
       "    <tr>\n",
       "      <th>8</th>\n",
       "      <td>p014</td>\n",
       "      <td>876</td>\n",
       "    </tr>\n",
       "    <tr>\n",
       "      <th>9</th>\n",
       "      <td>p015</td>\n",
       "      <td>875</td>\n",
       "    </tr>\n",
       "    <tr>\n",
       "      <th>10</th>\n",
       "      <td>p035</td>\n",
       "      <td>848</td>\n",
       "    </tr>\n",
       "    <tr>\n",
       "      <th>11</th>\n",
       "      <td>p047</td>\n",
       "      <td>835</td>\n",
       "    </tr>\n",
       "    <tr>\n",
       "      <th>12</th>\n",
       "      <td>p081</td>\n",
       "      <td>823</td>\n",
       "    </tr>\n",
       "    <tr>\n",
       "      <th>13</th>\n",
       "      <td>p012</td>\n",
       "      <td>823</td>\n",
       "    </tr>\n",
       "    <tr>\n",
       "      <th>14</th>\n",
       "      <td>p064</td>\n",
       "      <td>820</td>\n",
       "    </tr>\n",
       "    <tr>\n",
       "      <th>15</th>\n",
       "      <td>p075</td>\n",
       "      <td>814</td>\n",
       "    </tr>\n",
       "    <tr>\n",
       "      <th>16</th>\n",
       "      <td>p061</td>\n",
       "      <td>809</td>\n",
       "    </tr>\n",
       "    <tr>\n",
       "      <th>17</th>\n",
       "      <td>p056</td>\n",
       "      <td>794</td>\n",
       "    </tr>\n",
       "    <tr>\n",
       "      <th>18</th>\n",
       "      <td>p050</td>\n",
       "      <td>790</td>\n",
       "    </tr>\n",
       "    <tr>\n",
       "      <th>19</th>\n",
       "      <td>p052</td>\n",
       "      <td>740</td>\n",
       "    </tr>\n",
       "    <tr>\n",
       "      <th>20</th>\n",
       "      <td>p002</td>\n",
       "      <td>725</td>\n",
       "    </tr>\n",
       "    <tr>\n",
       "      <th>21</th>\n",
       "      <td>p045</td>\n",
       "      <td>724</td>\n",
       "    </tr>\n",
       "    <tr>\n",
       "      <th>22</th>\n",
       "      <td>p039</td>\n",
       "      <td>651</td>\n",
       "    </tr>\n",
       "    <tr>\n",
       "      <th>23</th>\n",
       "      <td>p041</td>\n",
       "      <td>605</td>\n",
       "    </tr>\n",
       "    <tr>\n",
       "      <th>24</th>\n",
       "      <td>p042</td>\n",
       "      <td>591</td>\n",
       "    </tr>\n",
       "    <tr>\n",
       "      <th>25</th>\n",
       "      <td>p072</td>\n",
       "      <td>346</td>\n",
       "    </tr>\n",
       "    <tr>\n",
       "      <th>mean</th>\n",
       "      <td>NaN</td>\n",
       "      <td>862</td>\n",
       "    </tr>\n",
       "    <tr>\n",
       "      <th>std</th>\n",
       "      <td>NaN</td>\n",
       "      <td>214</td>\n",
       "    </tr>\n",
       "    <tr>\n",
       "      <th>min</th>\n",
       "      <td>NaN</td>\n",
       "      <td>346</td>\n",
       "    </tr>\n",
       "    <tr>\n",
       "      <th>median</th>\n",
       "      <td>NaN</td>\n",
       "      <td>823</td>\n",
       "    </tr>\n",
       "    <tr>\n",
       "      <th>max</th>\n",
       "      <td>NaN</td>\n",
       "      <td>1237</td>\n",
       "    </tr>\n",
       "  </tbody>\n",
       "</table>\n",
       "</div>"
      ],
      "text/plain": [
       "       subject  counts\n",
       "0         p021    1237\n",
       "1         p022    1233\n",
       "2         p024    1226\n",
       "3         p026    1196\n",
       "4         p016    1078\n",
       "5         p066    1034\n",
       "6         p049    1011\n",
       "7         p051     920\n",
       "8         p014     876\n",
       "9         p015     875\n",
       "10        p035     848\n",
       "11        p047     835\n",
       "12        p081     823\n",
       "13        p012     823\n",
       "14        p064     820\n",
       "15        p075     814\n",
       "16        p061     809\n",
       "17        p056     794\n",
       "18        p050     790\n",
       "19        p052     740\n",
       "20        p002     725\n",
       "21        p045     724\n",
       "22        p039     651\n",
       "23        p041     605\n",
       "24        p042     591\n",
       "25        p072     346\n",
       "mean       NaN     862\n",
       "std        NaN     214\n",
       "min        NaN     346\n",
       "median     NaN     823\n",
       "max        NaN    1237"
      ]
     },
     "execution_count": 11,
     "metadata": {},
     "output_type": "execute_result"
    }
   ],
   "source": [
    "subjects"
   ]
  },
  {
   "cell_type": "code",
   "execution_count": 37,
   "metadata": {},
   "outputs": [
    {
     "data": {
      "image/png": "[encoded data removed]",
      "text/plain": [
       "<Figure size 720x504 with 1 Axes>"
      ]
     },
     "metadata": {},
     "output_type": "display_data"
    }
   ],
   "source": [
    "# Plot histogram to visualize spread of training subject frequency\n",
    "\n",
    "fig = plt.figure(figsize=(10,7))\n",
    "_ = plt.title('Training Subject Counts Distplot')\n",
    "_ = sns.distplot(subjects.iloc[:len(sublist), :].counts)\n",
    "_ = plt.show()\n",
    "_ = plt.close()"
   ]
  },
  {
   "cell_type": "code",
   "execution_count": 38,
   "metadata": {},
   "outputs": [
    {
     "data": {
      "image/png": "[encoded data removed]",
      "text/plain": [
       "<Figure size 720x504 with 1 Axes>"
      ]
     },
     "metadata": {},
     "output_type": "display_data"
    }
   ],
   "source": [
    "# Plot boxplot to visualize spread of subject frequency\n",
    "\n",
    "fig = plt.figure(figsize=(10,7))\n",
    "_ = plt.title('Training Subject Counts Boxplot')\n",
    "_ = sns.boxplot(subjects.iloc[:len(sublist), :].counts)\n",
    "_ = plt.show()\n",
    "_ = plt.close()"
   ]
  },
  {
   "cell_type": "markdown",
   "metadata": {},
   "source": [
    "## Inspect class composition"
   ]
  },
  {
   "cell_type": "code",
   "execution_count": 14,
   "metadata": {},
   "outputs": [],
   "source": [
    "# Do the same thing with classes\n",
    "classes = pd.DataFrame(df['classname'].value_counts())\n",
    "classes = classes.reset_index().rename(columns={'index':'classname', 'classname':'counts'})"
   ]
  },
  {
   "cell_type": "code",
   "execution_count": 15,
   "metadata": {},
   "outputs": [],
   "source": [
    "classes.loc['mean', :] = classes.iloc[:len(classlist)].mean()\n",
    "classes.loc['std', :] = classes.iloc[:len(classlist)].std()\n",
    "classes.loc['min', :] = classes.iloc[:len(classlist)].min(numeric_only=True)\n",
    "classes.loc['median', :] = classes.iloc[:len(classlist)].median()\n",
    "classes.loc['max', :] = classes.iloc[:len(classlist)].max(numeric_only=True)"
   ]
  },
  {
   "cell_type": "code",
   "execution_count": 16,
   "metadata": {},
   "outputs": [],
   "source": [
    "classes[['counts']] = classes[['counts']].astype(int)"
   ]
  },
  {
   "cell_type": "code",
   "execution_count": 17,
   "metadata": {},
   "outputs": [
    {
     "data": {
      "text/html": [
       "<div>\n",
       "<style scoped>\n",
       "    .dataframe tbody tr th:only-of-type {\n",
       "        vertical-align: middle;\n",
       "    }\n",
       "\n",
       "    .dataframe tbody tr th {\n",
       "        vertical-align: top;\n",
       "    }\n",
       "\n",
       "    .dataframe thead th {\n",
       "        text-align: right;\n",
       "    }\n",
       "</style>\n",
       "<table border=\"1\" class=\"dataframe\">\n",
       "  <thead>\n",
       "    <tr style=\"text-align: right;\">\n",
       "      <th></th>\n",
       "      <th>classname</th>\n",
       "      <th>counts</th>\n",
       "    </tr>\n",
       "  </thead>\n",
       "  <tbody>\n",
       "    <tr>\n",
       "      <th>0</th>\n",
       "      <td>c0</td>\n",
       "      <td>2489</td>\n",
       "    </tr>\n",
       "    <tr>\n",
       "      <th>1</th>\n",
       "      <td>c3</td>\n",
       "      <td>2346</td>\n",
       "    </tr>\n",
       "    <tr>\n",
       "      <th>2</th>\n",
       "      <td>c4</td>\n",
       "      <td>2326</td>\n",
       "    </tr>\n",
       "    <tr>\n",
       "      <th>3</th>\n",
       "      <td>c6</td>\n",
       "      <td>2325</td>\n",
       "    </tr>\n",
       "    <tr>\n",
       "      <th>4</th>\n",
       "      <td>c2</td>\n",
       "      <td>2317</td>\n",
       "    </tr>\n",
       "    <tr>\n",
       "      <th>5</th>\n",
       "      <td>c5</td>\n",
       "      <td>2312</td>\n",
       "    </tr>\n",
       "    <tr>\n",
       "      <th>6</th>\n",
       "      <td>c1</td>\n",
       "      <td>2267</td>\n",
       "    </tr>\n",
       "    <tr>\n",
       "      <th>7</th>\n",
       "      <td>c9</td>\n",
       "      <td>2129</td>\n",
       "    </tr>\n",
       "    <tr>\n",
       "      <th>8</th>\n",
       "      <td>c7</td>\n",
       "      <td>2002</td>\n",
       "    </tr>\n",
       "    <tr>\n",
       "      <th>9</th>\n",
       "      <td>c8</td>\n",
       "      <td>1911</td>\n",
       "    </tr>\n",
       "    <tr>\n",
       "      <th>mean</th>\n",
       "      <td>NaN</td>\n",
       "      <td>2242</td>\n",
       "    </tr>\n",
       "    <tr>\n",
       "      <th>std</th>\n",
       "      <td>NaN</td>\n",
       "      <td>175</td>\n",
       "    </tr>\n",
       "    <tr>\n",
       "      <th>min</th>\n",
       "      <td>NaN</td>\n",
       "      <td>1911</td>\n",
       "    </tr>\n",
       "    <tr>\n",
       "      <th>median</th>\n",
       "      <td>NaN</td>\n",
       "      <td>2314</td>\n",
       "    </tr>\n",
       "    <tr>\n",
       "      <th>max</th>\n",
       "      <td>NaN</td>\n",
       "      <td>2489</td>\n",
       "    </tr>\n",
       "  </tbody>\n",
       "</table>\n",
       "</div>"
      ],
      "text/plain": [
       "       classname  counts\n",
       "0             c0    2489\n",
       "1             c3    2346\n",
       "2             c4    2326\n",
       "3             c6    2325\n",
       "4             c2    2317\n",
       "5             c5    2312\n",
       "6             c1    2267\n",
       "7             c9    2129\n",
       "8             c7    2002\n",
       "9             c8    1911\n",
       "mean         NaN    2242\n",
       "std          NaN     175\n",
       "min          NaN    1911\n",
       "median       NaN    2314\n",
       "max          NaN    2489"
      ]
     },
     "execution_count": 17,
     "metadata": {},
     "output_type": "execute_result"
    }
   ],
   "source": [
    "classes"
   ]
  },
  {
   "cell_type": "code",
   "execution_count": 39,
   "metadata": {},
   "outputs": [
    {
     "data": {
      "image/png": "[encoded data removed]",
      "text/plain": [
       "<Figure size 720x504 with 1 Axes>"
      ]
     },
     "metadata": {},
     "output_type": "display_data"
    }
   ],
   "source": [
    "# Plot histogram to visualize spread of training class frequency\n",
    "\n",
    "fig = plt.figure(figsize=(10,7))\n",
    "_ = plt.title('Training Subject Counts Distplot')\n",
    "_ = sns.distplot(classes.iloc[:len(classlist), :].counts)\n",
    "_ = plt.show()\n",
    "_ = plt.close()"
   ]
  },
  {
   "cell_type": "code",
   "execution_count": 40,
   "metadata": {},
   "outputs": [
    {
     "data": {
      "image/png": "[encoded data removed]",
      "text/plain": [
       "<Figure size 720x504 with 1 Axes>"
      ]
     },
     "metadata": {},
     "output_type": "display_data"
    }
   ],
   "source": [
    "# Plot boxplot to visualize spread of class frequency\n",
    "\n",
    "fig = plt.figure(figsize=(10,7))\n",
    "_ = plt.title('Training Subject Counts Boxplot')\n",
    "_ = sns.boxplot(classes.iloc[:len(classlist), :].counts)\n",
    "_ = plt.show()\n",
    "_ = plt.close()"
   ]
  },
  {
   "cell_type": "markdown",
   "metadata": {},
   "source": [
    "###### It's clear that there is subject and class imbalance in the training set. This could prove problematic when training the model. Let's take a look and see how the class balance stands on a subject-by-subject basis"
   ]
  },
  {
   "cell_type": "markdown",
   "metadata": {},
   "source": [
    "## Inspect class composition by subject"
   ]
  },
  {
   "cell_type": "markdown",
   "metadata": {},
   "source": [
    "The goal is to see how the classes are imbalanced by subject"
   ]
  },
  {
   "cell_type": "code",
   "execution_count": 20,
   "metadata": {},
   "outputs": [],
   "source": [
    "# Group aggregate sum class and subject\n",
    "subbyclass = df.groupby(by=['subject', 'classname']).agg({'img':'count'})\n",
    "subbyclass = subbyclass.reset_index().rename(columns={'img':'counts'})"
   ]
  },
  {
   "cell_type": "code",
   "execution_count": 21,
   "metadata": {},
   "outputs": [],
   "source": [
    "# Instantiate empty dataframe for class stats\n",
    "classstats = pd.DataFrame(np.zeros([len(classlist),10]), \\\n",
    "                             columns=['class', \\\n",
    "                                      'mean', \\\n",
    "                                      'std', \\\n",
    "                                      'min', \\\n",
    "                                      'minsub', \\\n",
    "                                      '25%', \\\n",
    "                                      'median', \\\n",
    "                                      '75%', \\\n",
    "                                      'max', \\\n",
    "                                      'maxsub'], \\\n",
    "                             dtype='int')\n",
    "\n",
    "# Designate string columns\n",
    "classstats = classstats.astype({'class':'string', 'minsub':'string', 'maxsub':'string'})"
   ]
  },
  {
   "cell_type": "code",
   "execution_count": 22,
   "metadata": {
    "scrolled": false
   },
   "outputs": [],
   "source": [
    "# Fill dataframe with summary statistics using for loop\n",
    "for i in range(len(classlist)):\n",
    "    \n",
    "    # Create filtered subdata frame by class\n",
    "    idf = subbyclass.loc[subbyclass.classname == classlist[i], :]\n",
    "    \n",
    "    # Fill class column\n",
    "    classstats.loc[i, 'class']= classlist[i]    \n",
    "    \n",
    "    # Fill mean column\n",
    "    classstats.loc[i, 'mean'] = int(idf.counts.mean())\n",
    "    \n",
    "    #Fill std column\n",
    "    classstats.loc[i, 'std'] = int(idf.counts.std())\n",
    "    \n",
    "    # Calculate min\n",
    "    imin = idf.counts.min()\n",
    "    \n",
    "    # Fill min column\n",
    "    classstats.loc[i, 'min'] = int(imin)\n",
    "    \n",
    "    # Fill minsub column\n",
    "    classstats.loc[i, 'minsub'] = idf.loc[idf.counts == imin, 'subject'].iloc[0]\n",
    "    \n",
    "    # Fill 25% column\n",
    "    classstats.loc[i, '25%'] = int(idf.counts.quantile(0.25))\n",
    "    \n",
    "    # Fill 50% column\n",
    "    classstats.loc[i, 'median'] = int(idf.counts.median())\n",
    "    \n",
    "    # Fill 75% column\n",
    "    classstats.loc[i, '75%'] = int(idf.counts.quantile(0.75))\n",
    "    \n",
    "    # Calculate max\n",
    "    imax = idf.counts.max()\n",
    "    \n",
    "    # Fill max column\n",
    "    classstats.loc[i, 'max'] = imax\n",
    "    \n",
    "    # Fill maxsub column\n",
    "    classstats.loc[i, 'maxsub'] = idf.loc[idf.counts == imax, 'subject'].iloc[0]\n",
    "    \n",
    "    "
   ]
  },
  {
   "cell_type": "code",
   "execution_count": 23,
   "metadata": {
    "scrolled": false
   },
   "outputs": [],
   "source": [
    "classstats.loc['mean', :] = classstats.iloc[:len(classlist)].mean()\n",
    "classstats.loc['std', :] = classstats.iloc[:len(classlist)].std()\n",
    "classstats.loc['min', :] = classstats.iloc[:len(classlist)].min(numeric_only=True)\n",
    "classstats.loc['median', :] = classstats.iloc[:len(classlist)].median()\n",
    "classstats.loc['max', :] = classstats.iloc[:len(classlist)].max(numeric_only=True)"
   ]
  },
  {
   "cell_type": "code",
   "execution_count": 24,
   "metadata": {},
   "outputs": [],
   "source": [
    "classstats[['mean', 'std', 'min', '25%', 'median', '75%', 'max']] = \\\n",
    "classstats[['mean', 'std', 'min', '25%', 'median', '75%', 'max']].astype(int)"
   ]
  },
  {
   "cell_type": "code",
   "execution_count": 25,
   "metadata": {},
   "outputs": [
    {
     "data": {
      "text/html": [
       "<div>\n",
       "<style scoped>\n",
       "    .dataframe tbody tr th:only-of-type {\n",
       "        vertical-align: middle;\n",
       "    }\n",
       "\n",
       "    .dataframe tbody tr th {\n",
       "        vertical-align: top;\n",
       "    }\n",
       "\n",
       "    .dataframe thead th {\n",
       "        text-align: right;\n",
       "    }\n",
       "</style>\n",
       "<table border=\"1\" class=\"dataframe\">\n",
       "  <thead>\n",
       "    <tr style=\"text-align: right;\">\n",
       "      <th></th>\n",
       "      <th>class</th>\n",
       "      <th>mean</th>\n",
       "      <th>std</th>\n",
       "      <th>min</th>\n",
       "      <th>minsub</th>\n",
       "      <th>25%</th>\n",
       "      <th>median</th>\n",
       "      <th>75%</th>\n",
       "      <th>max</th>\n",
       "      <th>maxsub</th>\n",
       "    </tr>\n",
       "  </thead>\n",
       "  <tbody>\n",
       "    <tr>\n",
       "      <th>0</th>\n",
       "      <td>c0</td>\n",
       "      <td>95</td>\n",
       "      <td>29</td>\n",
       "      <td>59</td>\n",
       "      <td>p042</td>\n",
       "      <td>76</td>\n",
       "      <td>84</td>\n",
       "      <td>120</td>\n",
       "      <td>182</td>\n",
       "      <td>p051</td>\n",
       "    </tr>\n",
       "    <tr>\n",
       "      <th>1</th>\n",
       "      <td>c1</td>\n",
       "      <td>87</td>\n",
       "      <td>22</td>\n",
       "      <td>45</td>\n",
       "      <td>p050</td>\n",
       "      <td>74</td>\n",
       "      <td>81</td>\n",
       "      <td>98</td>\n",
       "      <td>131</td>\n",
       "      <td>p021</td>\n",
       "    </tr>\n",
       "    <tr>\n",
       "      <th>2</th>\n",
       "      <td>c2</td>\n",
       "      <td>89</td>\n",
       "      <td>24</td>\n",
       "      <td>36</td>\n",
       "      <td>p072</td>\n",
       "      <td>80</td>\n",
       "      <td>85</td>\n",
       "      <td>100</td>\n",
       "      <td>130</td>\n",
       "      <td>p026</td>\n",
       "    </tr>\n",
       "    <tr>\n",
       "      <th>3</th>\n",
       "      <td>c3</td>\n",
       "      <td>90</td>\n",
       "      <td>24</td>\n",
       "      <td>31</td>\n",
       "      <td>p072</td>\n",
       "      <td>78</td>\n",
       "      <td>85</td>\n",
       "      <td>100</td>\n",
       "      <td>131</td>\n",
       "      <td>p026</td>\n",
       "    </tr>\n",
       "    <tr>\n",
       "      <th>4</th>\n",
       "      <td>c4</td>\n",
       "      <td>89</td>\n",
       "      <td>23</td>\n",
       "      <td>34</td>\n",
       "      <td>p072</td>\n",
       "      <td>77</td>\n",
       "      <td>85</td>\n",
       "      <td>102</td>\n",
       "      <td>132</td>\n",
       "      <td>p021</td>\n",
       "    </tr>\n",
       "    <tr>\n",
       "      <th>5</th>\n",
       "      <td>c5</td>\n",
       "      <td>88</td>\n",
       "      <td>27</td>\n",
       "      <td>6</td>\n",
       "      <td>p072</td>\n",
       "      <td>76</td>\n",
       "      <td>86</td>\n",
       "      <td>101</td>\n",
       "      <td>131</td>\n",
       "      <td>p024</td>\n",
       "    </tr>\n",
       "    <tr>\n",
       "      <th>6</th>\n",
       "      <td>c6</td>\n",
       "      <td>89</td>\n",
       "      <td>24</td>\n",
       "      <td>35</td>\n",
       "      <td>p072</td>\n",
       "      <td>77</td>\n",
       "      <td>82</td>\n",
       "      <td>104</td>\n",
       "      <td>131</td>\n",
       "      <td>p022</td>\n",
       "    </tr>\n",
       "    <tr>\n",
       "      <th>7</th>\n",
       "      <td>c7</td>\n",
       "      <td>77</td>\n",
       "      <td>19</td>\n",
       "      <td>2</td>\n",
       "      <td>p072</td>\n",
       "      <td>72</td>\n",
       "      <td>79</td>\n",
       "      <td>85</td>\n",
       "      <td>101</td>\n",
       "      <td>p016</td>\n",
       "    </tr>\n",
       "    <tr>\n",
       "      <th>8</th>\n",
       "      <td>c8</td>\n",
       "      <td>73</td>\n",
       "      <td>21</td>\n",
       "      <td>21</td>\n",
       "      <td>p072</td>\n",
       "      <td>61</td>\n",
       "      <td>75</td>\n",
       "      <td>85</td>\n",
       "      <td>114</td>\n",
       "      <td>p066</td>\n",
       "    </tr>\n",
       "    <tr>\n",
       "      <th>9</th>\n",
       "      <td>c9</td>\n",
       "      <td>81</td>\n",
       "      <td>24</td>\n",
       "      <td>51</td>\n",
       "      <td>p002</td>\n",
       "      <td>62</td>\n",
       "      <td>76</td>\n",
       "      <td>91</td>\n",
       "      <td>131</td>\n",
       "      <td>p021</td>\n",
       "    </tr>\n",
       "    <tr>\n",
       "      <th>mean</th>\n",
       "      <td>&lt;NA&gt;</td>\n",
       "      <td>85</td>\n",
       "      <td>23</td>\n",
       "      <td>32</td>\n",
       "      <td>&lt;NA&gt;</td>\n",
       "      <td>73</td>\n",
       "      <td>81</td>\n",
       "      <td>98</td>\n",
       "      <td>131</td>\n",
       "      <td>&lt;NA&gt;</td>\n",
       "    </tr>\n",
       "    <tr>\n",
       "      <th>std</th>\n",
       "      <td>&lt;NA&gt;</td>\n",
       "      <td>6</td>\n",
       "      <td>2</td>\n",
       "      <td>18</td>\n",
       "      <td>&lt;NA&gt;</td>\n",
       "      <td>6</td>\n",
       "      <td>3</td>\n",
       "      <td>10</td>\n",
       "      <td>20</td>\n",
       "      <td>&lt;NA&gt;</td>\n",
       "    </tr>\n",
       "    <tr>\n",
       "      <th>min</th>\n",
       "      <td>&lt;NA&gt;</td>\n",
       "      <td>73</td>\n",
       "      <td>19</td>\n",
       "      <td>2</td>\n",
       "      <td>&lt;NA&gt;</td>\n",
       "      <td>61</td>\n",
       "      <td>75</td>\n",
       "      <td>85</td>\n",
       "      <td>101</td>\n",
       "      <td>&lt;NA&gt;</td>\n",
       "    </tr>\n",
       "    <tr>\n",
       "      <th>median</th>\n",
       "      <td>&lt;NA&gt;</td>\n",
       "      <td>88</td>\n",
       "      <td>24</td>\n",
       "      <td>34</td>\n",
       "      <td>&lt;NA&gt;</td>\n",
       "      <td>76</td>\n",
       "      <td>83</td>\n",
       "      <td>100</td>\n",
       "      <td>131</td>\n",
       "      <td>&lt;NA&gt;</td>\n",
       "    </tr>\n",
       "    <tr>\n",
       "      <th>max</th>\n",
       "      <td>&lt;NA&gt;</td>\n",
       "      <td>95</td>\n",
       "      <td>29</td>\n",
       "      <td>59</td>\n",
       "      <td>&lt;NA&gt;</td>\n",
       "      <td>80</td>\n",
       "      <td>86</td>\n",
       "      <td>120</td>\n",
       "      <td>182</td>\n",
       "      <td>&lt;NA&gt;</td>\n",
       "    </tr>\n",
       "  </tbody>\n",
       "</table>\n",
       "</div>"
      ],
      "text/plain": [
       "       class  mean  std  min minsub  25%  median  75%  max maxsub\n",
       "0         c0    95   29   59   p042   76      84  120  182   p051\n",
       "1         c1    87   22   45   p050   74      81   98  131   p021\n",
       "2         c2    89   24   36   p072   80      85  100  130   p026\n",
       "3         c3    90   24   31   p072   78      85  100  131   p026\n",
       "4         c4    89   23   34   p072   77      85  102  132   p021\n",
       "5         c5    88   27    6   p072   76      86  101  131   p024\n",
       "6         c6    89   24   35   p072   77      82  104  131   p022\n",
       "7         c7    77   19    2   p072   72      79   85  101   p016\n",
       "8         c8    73   21   21   p072   61      75   85  114   p066\n",
       "9         c9    81   24   51   p002   62      76   91  131   p021\n",
       "mean    <NA>    85   23   32   <NA>   73      81   98  131   <NA>\n",
       "std     <NA>     6    2   18   <NA>    6       3   10   20   <NA>\n",
       "min     <NA>    73   19    2   <NA>   61      75   85  101   <NA>\n",
       "median  <NA>    88   24   34   <NA>   76      83  100  131   <NA>\n",
       "max     <NA>    95   29   59   <NA>   80      86  120  182   <NA>"
      ]
     },
     "execution_count": 25,
     "metadata": {},
     "output_type": "execute_result"
    }
   ],
   "source": [
    "classstats"
   ]
  },
  {
   "cell_type": "markdown",
   "metadata": {},
   "source": []
  },
  {
   "cell_type": "markdown",
   "metadata": {},
   "source": [
    "## Inspect Subject Composition by Class"
   ]
  },
  {
   "cell_type": "code",
   "execution_count": 26,
   "metadata": {},
   "outputs": [],
   "source": [
    "# Group aggregate sum class and subject\n",
    "\n",
    "classbysub = df.groupby(by=['classname', 'subject']).agg({'img':'count'})\n",
    "classbysub = classbysub.reset_index().rename(columns={'img':'counts'})"
   ]
  },
  {
   "cell_type": "code",
   "execution_count": 27,
   "metadata": {},
   "outputs": [],
   "source": [
    "substats = pd.DataFrame(np.zeros([len(sublist),10]), \\\n",
    "                             columns=['subject', \\\n",
    "                                      'mean', \\\n",
    "                                      'std', \\\n",
    "                                      'min', \\\n",
    "                                      'minclass', \\\n",
    "                                      '25%', \\\n",
    "                                      'median', \\\n",
    "                                      '75%', \\\n",
    "                                      'max', \\\n",
    "                                      'maxclass'], \\\n",
    "                             dtype='int')"
   ]
  },
  {
   "cell_type": "code",
   "execution_count": 28,
   "metadata": {},
   "outputs": [],
   "source": [
    "substats = substats.astype({'subject':'string', 'minclass':'string', 'maxclass':'string'})"
   ]
  },
  {
   "cell_type": "code",
   "execution_count": 29,
   "metadata": {
    "scrolled": false
   },
   "outputs": [],
   "source": [
    "for i in range(len(sublist)):\n",
    "    \n",
    "    idf = classbysub.loc[classbysub.subject == sublist[i], :]\n",
    "    \n",
    "    substats.loc[i, 'subject']= sublist[i]    \n",
    "    \n",
    "    substats.loc[i, 'mean'] = int(idf.counts.mean())\n",
    "    \n",
    "    substats.loc[i, 'std'] = int(idf.counts.std())\n",
    "    \n",
    "    imin = idf.counts.min()\n",
    "    \n",
    "    substats.loc[i, 'min'] = int(imin)\n",
    "    \n",
    "    substats.loc[i, 'minclass'] = idf.loc[idf.counts == imin, 'classname'].iloc[0]\n",
    "    \n",
    "    substats.loc[i, '25%'] = int(idf.counts.quantile(0.25))\n",
    "    \n",
    "    substats.loc[i, 'median'] = int(idf.counts.median())\n",
    "                                    \n",
    "    substats.loc[i, '75%'] = int(idf.counts.quantile(0.75))\n",
    "    \n",
    "    imax = idf.counts.max()\n",
    "    \n",
    "    substats.loc[i, 'max'] = imax\n",
    "    \n",
    "    substats.loc[i, 'maxclass'] = idf.loc[idf.counts == imax, 'classname'].iloc[0]\n",
    "    \n",
    "    "
   ]
  },
  {
   "cell_type": "code",
   "execution_count": 30,
   "metadata": {
    "scrolled": false
   },
   "outputs": [],
   "source": [
    "substats.loc['mean', :] = substats.iloc[:len(sublist)].mean()\n",
    "substats.loc['std', :] = substats.iloc[:len(sublist)].std()\n",
    "substats.loc['min', :] = substats.iloc[:len(sublist)].min(numeric_only=True)\n",
    "substats.loc['median', :] = substats.iloc[:len(sublist)].median()\n",
    "substats.loc['max', :] = substats.iloc[:len(sublist)].max(numeric_only=True)"
   ]
  },
  {
   "cell_type": "code",
   "execution_count": 33,
   "metadata": {},
   "outputs": [],
   "source": [
    "substats[['mean', 'std', 'min', '25%', 'median', '75%', 'max']] = \\\n",
    "substats[['mean', 'std', 'min', '25%', 'median', '75%', 'max']].astype(int)"
   ]
  },
  {
   "cell_type": "code",
   "execution_count": 34,
   "metadata": {},
   "outputs": [
    {
     "data": {
      "text/html": [
       "<div>\n",
       "<style scoped>\n",
       "    .dataframe tbody tr th:only-of-type {\n",
       "        vertical-align: middle;\n",
       "    }\n",
       "\n",
       "    .dataframe tbody tr th {\n",
       "        vertical-align: top;\n",
       "    }\n",
       "\n",
       "    .dataframe thead th {\n",
       "        text-align: right;\n",
       "    }\n",
       "</style>\n",
       "<table border=\"1\" class=\"dataframe\">\n",
       "  <thead>\n",
       "    <tr style=\"text-align: right;\">\n",
       "      <th></th>\n",
       "      <th>subject</th>\n",
       "      <th>mean</th>\n",
       "      <th>std</th>\n",
       "      <th>min</th>\n",
       "      <th>minclass</th>\n",
       "      <th>25%</th>\n",
       "      <th>median</th>\n",
       "      <th>75%</th>\n",
       "      <th>max</th>\n",
       "      <th>maxclass</th>\n",
       "    </tr>\n",
       "  </thead>\n",
       "  <tbody>\n",
       "    <tr>\n",
       "      <th>0</th>\n",
       "      <td>p002</td>\n",
       "      <td>72</td>\n",
       "      <td>14</td>\n",
       "      <td>44</td>\n",
       "      <td>c8</td>\n",
       "      <td>72</td>\n",
       "      <td>76</td>\n",
       "      <td>82</td>\n",
       "      <td>86</td>\n",
       "      <td>c2</td>\n",
       "    </tr>\n",
       "    <tr>\n",
       "      <th>1</th>\n",
       "      <td>p012</td>\n",
       "      <td>82</td>\n",
       "      <td>13</td>\n",
       "      <td>62</td>\n",
       "      <td>c8</td>\n",
       "      <td>72</td>\n",
       "      <td>86</td>\n",
       "      <td>94</td>\n",
       "      <td>97</td>\n",
       "      <td>c4</td>\n",
       "    </tr>\n",
       "    <tr>\n",
       "      <th>2</th>\n",
       "      <td>p014</td>\n",
       "      <td>87</td>\n",
       "      <td>23</td>\n",
       "      <td>38</td>\n",
       "      <td>c8</td>\n",
       "      <td>82</td>\n",
       "      <td>100</td>\n",
       "      <td>101</td>\n",
       "      <td>103</td>\n",
       "      <td>c1</td>\n",
       "    </tr>\n",
       "    <tr>\n",
       "      <th>3</th>\n",
       "      <td>p015</td>\n",
       "      <td>87</td>\n",
       "      <td>12</td>\n",
       "      <td>61</td>\n",
       "      <td>c9</td>\n",
       "      <td>82</td>\n",
       "      <td>87</td>\n",
       "      <td>97</td>\n",
       "      <td>101</td>\n",
       "      <td>c4</td>\n",
       "    </tr>\n",
       "    <tr>\n",
       "      <th>4</th>\n",
       "      <td>p016</td>\n",
       "      <td>107</td>\n",
       "      <td>9</td>\n",
       "      <td>99</td>\n",
       "      <td>c8</td>\n",
       "      <td>101</td>\n",
       "      <td>104</td>\n",
       "      <td>110</td>\n",
       "      <td>128</td>\n",
       "      <td>c3</td>\n",
       "    </tr>\n",
       "    <tr>\n",
       "      <th>5</th>\n",
       "      <td>p021</td>\n",
       "      <td>123</td>\n",
       "      <td>13</td>\n",
       "      <td>98</td>\n",
       "      <td>c7</td>\n",
       "      <td>126</td>\n",
       "      <td>129</td>\n",
       "      <td>131</td>\n",
       "      <td>135</td>\n",
       "      <td>c0</td>\n",
       "    </tr>\n",
       "    <tr>\n",
       "      <th>6</th>\n",
       "      <td>p022</td>\n",
       "      <td>123</td>\n",
       "      <td>13</td>\n",
       "      <td>98</td>\n",
       "      <td>c7</td>\n",
       "      <td>128</td>\n",
       "      <td>129</td>\n",
       "      <td>130</td>\n",
       "      <td>131</td>\n",
       "      <td>c6</td>\n",
       "    </tr>\n",
       "    <tr>\n",
       "      <th>7</th>\n",
       "      <td>p024</td>\n",
       "      <td>122</td>\n",
       "      <td>12</td>\n",
       "      <td>99</td>\n",
       "      <td>c8</td>\n",
       "      <td>122</td>\n",
       "      <td>129</td>\n",
       "      <td>129</td>\n",
       "      <td>131</td>\n",
       "      <td>c5</td>\n",
       "    </tr>\n",
       "    <tr>\n",
       "      <th>8</th>\n",
       "      <td>p026</td>\n",
       "      <td>119</td>\n",
       "      <td>15</td>\n",
       "      <td>97</td>\n",
       "      <td>c7</td>\n",
       "      <td>105</td>\n",
       "      <td>128</td>\n",
       "      <td>130</td>\n",
       "      <td>131</td>\n",
       "      <td>c3</td>\n",
       "    </tr>\n",
       "    <tr>\n",
       "      <th>9</th>\n",
       "      <td>p035</td>\n",
       "      <td>84</td>\n",
       "      <td>11</td>\n",
       "      <td>56</td>\n",
       "      <td>c8</td>\n",
       "      <td>82</td>\n",
       "      <td>88</td>\n",
       "      <td>89</td>\n",
       "      <td>94</td>\n",
       "      <td>c0</td>\n",
       "    </tr>\n",
       "    <tr>\n",
       "      <th>10</th>\n",
       "      <td>p039</td>\n",
       "      <td>65</td>\n",
       "      <td>2</td>\n",
       "      <td>62</td>\n",
       "      <td>c4</td>\n",
       "      <td>63</td>\n",
       "      <td>64</td>\n",
       "      <td>65</td>\n",
       "      <td>70</td>\n",
       "      <td>c2</td>\n",
       "    </tr>\n",
       "    <tr>\n",
       "      <th>11</th>\n",
       "      <td>p041</td>\n",
       "      <td>60</td>\n",
       "      <td>1</td>\n",
       "      <td>59</td>\n",
       "      <td>c8</td>\n",
       "      <td>60</td>\n",
       "      <td>60</td>\n",
       "      <td>61</td>\n",
       "      <td>64</td>\n",
       "      <td>c1</td>\n",
       "    </tr>\n",
       "    <tr>\n",
       "      <th>12</th>\n",
       "      <td>p042</td>\n",
       "      <td>59</td>\n",
       "      <td>0</td>\n",
       "      <td>58</td>\n",
       "      <td>c4</td>\n",
       "      <td>59</td>\n",
       "      <td>59</td>\n",
       "      <td>59</td>\n",
       "      <td>60</td>\n",
       "      <td>c2</td>\n",
       "    </tr>\n",
       "    <tr>\n",
       "      <th>13</th>\n",
       "      <td>p045</td>\n",
       "      <td>72</td>\n",
       "      <td>4</td>\n",
       "      <td>66</td>\n",
       "      <td>c8</td>\n",
       "      <td>68</td>\n",
       "      <td>75</td>\n",
       "      <td>75</td>\n",
       "      <td>76</td>\n",
       "      <td>c2</td>\n",
       "    </tr>\n",
       "    <tr>\n",
       "      <th>14</th>\n",
       "      <td>p047</td>\n",
       "      <td>83</td>\n",
       "      <td>3</td>\n",
       "      <td>80</td>\n",
       "      <td>c0</td>\n",
       "      <td>81</td>\n",
       "      <td>82</td>\n",
       "      <td>85</td>\n",
       "      <td>91</td>\n",
       "      <td>c1</td>\n",
       "    </tr>\n",
       "    <tr>\n",
       "      <th>15</th>\n",
       "      <td>p049</td>\n",
       "      <td>101</td>\n",
       "      <td>18</td>\n",
       "      <td>74</td>\n",
       "      <td>c7</td>\n",
       "      <td>84</td>\n",
       "      <td>109</td>\n",
       "      <td>116</td>\n",
       "      <td>119</td>\n",
       "      <td>c2</td>\n",
       "    </tr>\n",
       "    <tr>\n",
       "      <th>16</th>\n",
       "      <td>p050</td>\n",
       "      <td>79</td>\n",
       "      <td>22</td>\n",
       "      <td>45</td>\n",
       "      <td>c1</td>\n",
       "      <td>66</td>\n",
       "      <td>81</td>\n",
       "      <td>89</td>\n",
       "      <td>123</td>\n",
       "      <td>c0</td>\n",
       "    </tr>\n",
       "    <tr>\n",
       "      <th>17</th>\n",
       "      <td>p051</td>\n",
       "      <td>92</td>\n",
       "      <td>32</td>\n",
       "      <td>62</td>\n",
       "      <td>c8</td>\n",
       "      <td>81</td>\n",
       "      <td>82</td>\n",
       "      <td>89</td>\n",
       "      <td>182</td>\n",
       "      <td>c0</td>\n",
       "    </tr>\n",
       "    <tr>\n",
       "      <th>18</th>\n",
       "      <td>p052</td>\n",
       "      <td>74</td>\n",
       "      <td>4</td>\n",
       "      <td>71</td>\n",
       "      <td>c1</td>\n",
       "      <td>71</td>\n",
       "      <td>72</td>\n",
       "      <td>75</td>\n",
       "      <td>84</td>\n",
       "      <td>c2</td>\n",
       "    </tr>\n",
       "    <tr>\n",
       "      <th>19</th>\n",
       "      <td>p056</td>\n",
       "      <td>79</td>\n",
       "      <td>2</td>\n",
       "      <td>74</td>\n",
       "      <td>c7</td>\n",
       "      <td>78</td>\n",
       "      <td>80</td>\n",
       "      <td>81</td>\n",
       "      <td>83</td>\n",
       "      <td>c8</td>\n",
       "    </tr>\n",
       "    <tr>\n",
       "      <th>20</th>\n",
       "      <td>p061</td>\n",
       "      <td>80</td>\n",
       "      <td>1</td>\n",
       "      <td>79</td>\n",
       "      <td>c4</td>\n",
       "      <td>80</td>\n",
       "      <td>81</td>\n",
       "      <td>81</td>\n",
       "      <td>84</td>\n",
       "      <td>c0</td>\n",
       "    </tr>\n",
       "    <tr>\n",
       "      <th>21</th>\n",
       "      <td>p064</td>\n",
       "      <td>82</td>\n",
       "      <td>2</td>\n",
       "      <td>76</td>\n",
       "      <td>c9</td>\n",
       "      <td>81</td>\n",
       "      <td>82</td>\n",
       "      <td>83</td>\n",
       "      <td>86</td>\n",
       "      <td>c4</td>\n",
       "    </tr>\n",
       "    <tr>\n",
       "      <th>22</th>\n",
       "      <td>p066</td>\n",
       "      <td>103</td>\n",
       "      <td>11</td>\n",
       "      <td>86</td>\n",
       "      <td>c7</td>\n",
       "      <td>100</td>\n",
       "      <td>101</td>\n",
       "      <td>105</td>\n",
       "      <td>129</td>\n",
       "      <td>c0</td>\n",
       "    </tr>\n",
       "    <tr>\n",
       "      <th>23</th>\n",
       "      <td>p072</td>\n",
       "      <td>34</td>\n",
       "      <td>21</td>\n",
       "      <td>2</td>\n",
       "      <td>c7</td>\n",
       "      <td>23</td>\n",
       "      <td>34</td>\n",
       "      <td>51</td>\n",
       "      <td>63</td>\n",
       "      <td>c0</td>\n",
       "    </tr>\n",
       "    <tr>\n",
       "      <th>24</th>\n",
       "      <td>p075</td>\n",
       "      <td>81</td>\n",
       "      <td>3</td>\n",
       "      <td>77</td>\n",
       "      <td>c9</td>\n",
       "      <td>79</td>\n",
       "      <td>81</td>\n",
       "      <td>82</td>\n",
       "      <td>89</td>\n",
       "      <td>c4</td>\n",
       "    </tr>\n",
       "    <tr>\n",
       "      <th>25</th>\n",
       "      <td>p081</td>\n",
       "      <td>82</td>\n",
       "      <td>10</td>\n",
       "      <td>61</td>\n",
       "      <td>c8</td>\n",
       "      <td>77</td>\n",
       "      <td>80</td>\n",
       "      <td>88</td>\n",
       "      <td>100</td>\n",
       "      <td>c0</td>\n",
       "    </tr>\n",
       "    <tr>\n",
       "      <th>mean</th>\n",
       "      <td>&lt;NA&gt;</td>\n",
       "      <td>85</td>\n",
       "      <td>10</td>\n",
       "      <td>68</td>\n",
       "      <td>&lt;NA&gt;</td>\n",
       "      <td>81</td>\n",
       "      <td>87</td>\n",
       "      <td>91</td>\n",
       "      <td>101</td>\n",
       "      <td>&lt;NA&gt;</td>\n",
       "    </tr>\n",
       "    <tr>\n",
       "      <th>std</th>\n",
       "      <td>&lt;NA&gt;</td>\n",
       "      <td>21</td>\n",
       "      <td>8</td>\n",
       "      <td>22</td>\n",
       "      <td>&lt;NA&gt;</td>\n",
       "      <td>22</td>\n",
       "      <td>23</td>\n",
       "      <td>22</td>\n",
       "      <td>28</td>\n",
       "      <td>&lt;NA&gt;</td>\n",
       "    </tr>\n",
       "    <tr>\n",
       "      <th>min</th>\n",
       "      <td>&lt;NA&gt;</td>\n",
       "      <td>34</td>\n",
       "      <td>0</td>\n",
       "      <td>2</td>\n",
       "      <td>&lt;NA&gt;</td>\n",
       "      <td>23</td>\n",
       "      <td>34</td>\n",
       "      <td>51</td>\n",
       "      <td>60</td>\n",
       "      <td>&lt;NA&gt;</td>\n",
       "    </tr>\n",
       "    <tr>\n",
       "      <th>median</th>\n",
       "      <td>&lt;NA&gt;</td>\n",
       "      <td>82</td>\n",
       "      <td>11</td>\n",
       "      <td>68</td>\n",
       "      <td>&lt;NA&gt;</td>\n",
       "      <td>80</td>\n",
       "      <td>82</td>\n",
       "      <td>88</td>\n",
       "      <td>95</td>\n",
       "      <td>&lt;NA&gt;</td>\n",
       "    </tr>\n",
       "    <tr>\n",
       "      <th>max</th>\n",
       "      <td>&lt;NA&gt;</td>\n",
       "      <td>123</td>\n",
       "      <td>32</td>\n",
       "      <td>99</td>\n",
       "      <td>&lt;NA&gt;</td>\n",
       "      <td>128</td>\n",
       "      <td>129</td>\n",
       "      <td>131</td>\n",
       "      <td>182</td>\n",
       "      <td>&lt;NA&gt;</td>\n",
       "    </tr>\n",
       "  </tbody>\n",
       "</table>\n",
       "</div>"
      ],
      "text/plain": [
       "       subject  mean  std  min minclass  25%  median  75%  max maxclass\n",
       "0         p002    72   14   44       c8   72      76   82   86       c2\n",
       "1         p012    82   13   62       c8   72      86   94   97       c4\n",
       "2         p014    87   23   38       c8   82     100  101  103       c1\n",
       "3         p015    87   12   61       c9   82      87   97  101       c4\n",
       "4         p016   107    9   99       c8  101     104  110  128       c3\n",
       "5         p021   123   13   98       c7  126     129  131  135       c0\n",
       "6         p022   123   13   98       c7  128     129  130  131       c6\n",
       "7         p024   122   12   99       c8  122     129  129  131       c5\n",
       "8         p026   119   15   97       c7  105     128  130  131       c3\n",
       "9         p035    84   11   56       c8   82      88   89   94       c0\n",
       "10        p039    65    2   62       c4   63      64   65   70       c2\n",
       "11        p041    60    1   59       c8   60      60   61   64       c1\n",
       "12        p042    59    0   58       c4   59      59   59   60       c2\n",
       "13        p045    72    4   66       c8   68      75   75   76       c2\n",
       "14        p047    83    3   80       c0   81      82   85   91       c1\n",
       "15        p049   101   18   74       c7   84     109  116  119       c2\n",
       "16        p050    79   22   45       c1   66      81   89  123       c0\n",
       "17        p051    92   32   62       c8   81      82   89  182       c0\n",
       "18        p052    74    4   71       c1   71      72   75   84       c2\n",
       "19        p056    79    2   74       c7   78      80   81   83       c8\n",
       "20        p061    80    1   79       c4   80      81   81   84       c0\n",
       "21        p064    82    2   76       c9   81      82   83   86       c4\n",
       "22        p066   103   11   86       c7  100     101  105  129       c0\n",
       "23        p072    34   21    2       c7   23      34   51   63       c0\n",
       "24        p075    81    3   77       c9   79      81   82   89       c4\n",
       "25        p081    82   10   61       c8   77      80   88  100       c0\n",
       "mean      <NA>    85   10   68     <NA>   81      87   91  101     <NA>\n",
       "std       <NA>    21    8   22     <NA>   22      23   22   28     <NA>\n",
       "min       <NA>    34    0    2     <NA>   23      34   51   60     <NA>\n",
       "median    <NA>    82   11   68     <NA>   80      82   88   95     <NA>\n",
       "max       <NA>   123   32   99     <NA>  128     129  131  182     <NA>"
      ]
     },
     "execution_count": 34,
     "metadata": {},
     "output_type": "execute_result"
    }
   ],
   "source": [
    "substats"
   ]
  },
  {
   "cell_type": "code",
   "execution_count": null,
   "metadata": {},
   "outputs": [],
   "source": []
  },
  {
   "cell_type": "code",
   "execution_count": null,
   "metadata": {},
   "outputs": [],
   "source": []
  },
  {
   "cell_type": "code",
   "execution_count": null,
   "metadata": {},
   "outputs": [],
   "source": []
  },
  {
   "cell_type": "code",
   "execution_count": null,
   "metadata": {},
   "outputs": [],
   "source": []
  },
  {
   "cell_type": "code",
   "execution_count": 102,
   "metadata": {
    "scrolled": false
   },
   "outputs": [
    {
     "data": {
      "image/png": "[encoded data removed]",
      "text/plain": [
       "<Figure size 720x504 with 1 Axes>"
      ]
     },
     "metadata": {
      "needs_background": "light"
     },
     "output_type": "display_data"
    },
    {
     "data": {
      "image/png": "[encoded data removed]",
      "text/plain": [
       "<Figure size 720x504 with 1 Axes>"
      ]
     },
     "metadata": {
      "needs_background": "light"
     },
     "output_type": "display_data"
    },
    {
     "data": {
      "image/png": "[encoded data removed]",
      "text/plain": [
       "<Figure size 720x504 with 1 Axes>"
      ]
     },
     "metadata": {
      "needs_background": "light"
     },
     "output_type": "display_data"
    },
    {
     "data": {
      "image/png": "[encoded data removed]",
      "text/plain": [
       "<Figure size 720x504 with 1 Axes>"
      ]
     },
     "metadata": {
      "needs_background": "light"
     },
     "output_type": "display_data"
    },
    {
     "data": {
      "image/png": "[encoded data removed]",
      "text/plain": [
       "<Figure size 720x504 with 1 Axes>"
      ]
     },
     "metadata": {
      "needs_background": "light"
     },
     "output_type": "display_data"
    },
    {
     "data": {
      "image/png": "[encoded data removed]",
      "text/plain": [
       "<Figure size 720x504 with 1 Axes>"
      ]
     },
     "metadata": {
      "needs_background": "light"
     },
     "output_type": "display_data"
    },
    {
     "data": {
      "image/png": "[encoded data removed]",
      "text/plain": [
       "<Figure size 720x504 with 1 Axes>"
      ]
     },
     "metadata": {
      "needs_background": "light"
     },
     "output_type": "display_data"
    },
    {
     "data": {
      "image/png": "[encoded data removed]",
      "text/plain": [
       "<Figure size 720x504 with 1 Axes>"
      ]
     },
     "metadata": {
      "needs_background": "light"
     },
     "output_type": "display_data"
    },
    {
     "data": {
      "image/png": "[encoded data removed]",
      "text/plain": [
       "<Figure size 720x504 with 1 Axes>"
      ]
     },
     "metadata": {
      "needs_background": "light"
     },
     "output_type": "display_data"
    },
    {
     "data": {
      "image/png": "[encoded data removed]",
      "text/plain": [
       "<Figure size 720x504 with 1 Axes>"
      ]
     },
     "metadata": {
      "needs_background": "light"
     },
     "output_type": "display_data"
    },
    {
     "data": {
      "image/png": "[encoded data removed]",
      "text/plain": [
       "<Figure size 720x504 with 1 Axes>"
      ]
     },
     "metadata": {
      "needs_background": "light"
     },
     "output_type": "display_data"
    },
    {
     "data": {
      "image/png": "[encoded data removed]",
      "text/plain": [
       "<Figure size 720x504 with 1 Axes>"
      ]
     },
     "metadata": {
      "needs_background": "light"
     },
     "output_type": "display_data"
    },
    {
     "data": {
      "image/png": "[encoded data removed]",
      "text/plain": [
       "<Figure size 720x504 with 1 Axes>"
      ]
     },
     "metadata": {
      "needs_background": "light"
     },
     "output_type": "display_data"
    },
    {
     "data": {
      "image/png": "[encoded data removed]",
      "text/plain": [
       "<Figure size 720x504 with 1 Axes>"
      ]
     },
     "metadata": {
      "needs_background": "light"
     },
     "output_type": "display_data"
    },
    {
     "data": {
      "image/png": "[encoded data removed]",
      "text/plain": [
       "<Figure size 720x504 with 1 Axes>"
      ]
     },
     "metadata": {
      "needs_background": "light"
     },
     "output_type": "display_data"
    },
    {
     "data": {
      "image/png": "[encoded data removed]",
      "text/plain": [
       "<Figure size 720x504 with 1 Axes>"
      ]
     },
     "metadata": {
      "needs_background": "light"
     },
     "output_type": "display_data"
    },
    {
     "data": {
      "image/png": "[encoded data removed]",
      "text/plain": [
       "<Figure size 720x504 with 1 Axes>"
      ]
     },
     "metadata": {
      "needs_background": "light"
     },
     "output_type": "display_data"
    },
    {
     "data": {
      "image/png": "[encoded data removed]",
      "text/plain": [
       "<Figure size 720x504 with 1 Axes>"
      ]
     },
     "metadata": {
      "needs_background": "light"
     },
     "output_type": "display_data"
    },
    {
     "data": {
      "image/png": "[encoded data removed]",
      "text/plain": [
       "<Figure size 720x504 with 1 Axes>"
      ]
     },
     "metadata": {
      "needs_background": "light"
     },
     "output_type": "display_data"
    },
    {
     "data": {
      "image/png": "[encoded data removed]",
      "text/plain": [
       "<Figure size 720x504 with 1 Axes>"
      ]
     },
     "metadata": {
      "needs_background": "light"
     },
     "output_type": "display_data"
    },
    {
     "data": {
      "image/png": "[encoded data removed]",
      "text/plain": [
       "<Figure size 720x504 with 1 Axes>"
      ]
     },
     "metadata": {
      "needs_background": "light"
     },
     "output_type": "display_data"
    },
    {
     "data": {
      "image/png": "[encoded data removed]",
      "text/plain": [
       "<Figure size 720x504 with 1 Axes>"
      ]
     },
     "metadata": {
      "needs_background": "light"
     },
     "output_type": "display_data"
    },
    {
     "data": {
      "image/png": "[encoded data removed]",
      "text/plain": [
       "<Figure size 720x504 with 1 Axes>"
      ]
     },
     "metadata": {
      "needs_background": "light"
     },
     "output_type": "display_data"
    },
    {
     "data": {
      "image/png": "[encoded data removed]",
      "text/plain": [
       "<Figure size 720x504 with 1 Axes>"
      ]
     },
     "metadata": {
      "needs_background": "light"
     },
     "output_type": "display_data"
    },
    {
     "data": {
      "image/png": "[encoded data removed]",
      "text/plain": [
       "<Figure size 720x504 with 1 Axes>"
      ]
     },
     "metadata": {
      "needs_background": "light"
     },
     "output_type": "display_data"
    },
    {
     "data": {
      "image/png": "[encoded data removed]",
      "text/plain": [
       "<Figure size 720x504 with 1 Axes>"
      ]
     },
     "metadata": {
      "needs_background": "light"
     },
     "output_type": "display_data"
    }
   ],
   "source": [
    "# Plot barplots for each subject to visualize spread of training class frequency\n",
    "\n",
    "\n",
    "\n",
    "for i in sublist:\n",
    "    fig = plt.figure(figsize=(10,7))\n",
    "    _ = plt.title('Class Frequency for Subject ' + str(i))\n",
    "    _ = sns.barplot(x='classname', y='counts', data=subbyclass.loc[subbyclass.subject == str(i)])\n",
    "    _ = plt.show()\n",
    "    _ = plt.close()"
   ]
  },
  {
   "cell_type": "code",
   "execution_count": null,
   "metadata": {},
   "outputs": [],
   "source": []
  },
  {
   "cell_type": "code",
   "execution_count": null,
   "metadata": {},
   "outputs": [],
   "source": []
  },
  {
   "cell_type": "code",
   "execution_count": null,
   "metadata": {},
   "outputs": [],
   "source": []
  },
  {
   "cell_type": "code",
   "execution_count": null,
   "metadata": {},
   "outputs": [],
   "source": []
  },
  {
   "cell_type": "code",
   "execution_count": null,
   "metadata": {},
   "outputs": [],
   "source": []
  },
  {
   "cell_type": "code",
   "execution_count": null,
   "metadata": {},
   "outputs": [],
   "source": []
  },
  {
   "cell_type": "code",
   "execution_count": null,
   "metadata": {},
   "outputs": [],
   "source": []
  },
  {
   "cell_type": "code",
   "execution_count": null,
   "metadata": {},
   "outputs": [],
   "source": []
  },
  {
   "cell_type": "code",
   "execution_count": null,
   "metadata": {},
   "outputs": [],
   "source": []
  },
  {
   "cell_type": "code",
   "execution_count": null,
   "metadata": {},
   "outputs": [],
   "source": []
  },
  {
   "cell_type": "markdown",
   "metadata": {},
   "source": [
    "Process the dataframe to make a column that generates the filepathway from this parent folder ot each individual file. Then create a function that will generate the crossvalidation train/test splits, with each iteration pulling out one specific subject."
   ]
  },
  {
   "cell_type": "code",
   "execution_count": null,
   "metadata": {},
   "outputs": [],
   "source": []
  },
  {
   "cell_type": "code",
   "execution_count": null,
   "metadata": {},
   "outputs": [],
   "source": []
  },
  {
   "cell_type": "code",
   "execution_count": null,
   "metadata": {},
   "outputs": [],
   "source": []
  },
  {
   "cell_type": "code",
   "execution_count": null,
   "metadata": {},
   "outputs": [],
   "source": []
  },
  {
   "cell_type": "code",
   "execution_count": null,
   "metadata": {},
   "outputs": [],
   "source": []
  },
  {
   "cell_type": "code",
   "execution_count": null,
   "metadata": {},
   "outputs": [],
   "source": []
  },
  {
   "cell_type": "code",
   "execution_count": null,
   "metadata": {},
   "outputs": [],
   "source": []
  },
  {
   "cell_type": "markdown",
   "metadata": {},
   "source": [
    "# Datagen"
   ]
  },
  {
   "cell_type": "code",
   "execution_count": 20,
   "metadata": {},
   "outputs": [],
   "source": [
    "path = '../data/raw/imgs/train'"
   ]
  },
  {
   "cell_type": "code",
   "execution_count": 31,
   "metadata": {},
   "outputs": [],
   "source": [
    "scores = numpy.empty([5,2])\n",
    "checkpoint = ModelCheckpoint('weights.hdf5', \\\n",
    "                             mode='max', \\\n",
    "                             monitor='val_accuracy', \\\n",
    "                             save_best_only=True)\n",
    "callbacks_list=[checkpoint]    "
   ]
  },
  {
   "cell_type": "code",
   "execution_count": 32,
   "metadata": {
    "scrolled": true
   },
   "outputs": [
    {
     "name": "stdout",
     "output_type": "stream",
     "text": [
      "Found 15702 images belonging to 10 classes.\n",
      "Found 6722 images belonging to 10 classes.\n",
      "WARNING:tensorflow:sample_weight modes were coerced from\n",
      "  ...\n",
      "    to  \n",
      "  ['...']\n",
      "WARNING:tensorflow:sample_weight modes were coerced from\n",
      "  ...\n",
      "    to  \n",
      "  ['...']\n",
      "Train for 20 steps, validate for 20 steps\n",
      "Epoch 1/3\n",
      "20/20 [==============================] - 29s 1s/step - loss: 184.2983 - accuracy: 0.1031 - val_loss: 108.1223 - val_accuracy: 0.1328\n",
      "Epoch 2/3\n",
      "20/20 [==============================] - 32s 2s/step - loss: 55.8650 - accuracy: 0.1312 - val_loss: 27.2335 - val_accuracy: 0.1984\n",
      "Epoch 3/3\n",
      "20/20 [==============================] - 22s 1s/step - loss: 18.8952 - accuracy: 0.2156 - val_loss: 13.3917 - val_accuracy: 0.2609\n",
      "Found 15702 images belonging to 10 classes.\n",
      "Found 6722 images belonging to 10 classes.\n",
      "WARNING:tensorflow:sample_weight modes were coerced from\n",
      "  ...\n",
      "    to  \n",
      "  ['...']\n",
      "WARNING:tensorflow:sample_weight modes were coerced from\n",
      "  ...\n",
      "    to  \n",
      "  ['...']\n",
      "Train for 20 steps, validate for 20 steps\n",
      "Epoch 1/3\n",
      "20/20 [==============================] - 25s 1s/step - loss: 145.4389 - accuracy: 0.1016 - val_loss: 73.0403 - val_accuracy: 0.1375\n",
      "Epoch 2/3\n",
      "20/20 [==============================] - 21s 1s/step - loss: 41.4412 - accuracy: 0.1672 - val_loss: 25.4188 - val_accuracy: 0.1984\n",
      "Epoch 3/3\n",
      "20/20 [==============================] - 21s 1s/step - loss: 18.8068 - accuracy: 0.2672 - val_loss: 16.9706 - val_accuracy: 0.2203\n",
      "Found 15702 images belonging to 10 classes.\n",
      "Found 6722 images belonging to 10 classes.\n",
      "WARNING:tensorflow:sample_weight modes were coerced from\n",
      "  ...\n",
      "    to  \n",
      "  ['...']\n",
      "WARNING:tensorflow:sample_weight modes were coerced from\n",
      "  ...\n",
      "    to  \n",
      "  ['...']\n",
      "Train for 20 steps, validate for 20 steps\n",
      "Epoch 1/3\n",
      "20/20 [==============================] - 25s 1s/step - loss: 107.0873 - accuracy: 0.1344 - val_loss: 48.6456 - val_accuracy: 0.1578\n",
      "Epoch 2/3\n",
      "20/20 [==============================] - 19s 952ms/step - loss: 28.6194 - accuracy: 0.1891 - val_loss: 20.6139 - val_accuracy: 0.2016\n",
      "Epoch 3/3\n",
      "20/20 [==============================] - 18s 915ms/step - loss: 14.5201 - accuracy: 0.2688 - val_loss: 13.1339 - val_accuracy: 0.2484\n",
      "Found 15702 images belonging to 10 classes.\n",
      "Found 6722 images belonging to 10 classes.\n",
      "WARNING:tensorflow:sample_weight modes were coerced from\n",
      "  ...\n",
      "    to  \n",
      "  ['...']\n",
      "WARNING:tensorflow:sample_weight modes were coerced from\n",
      "  ...\n",
      "    to  \n",
      "  ['...']\n",
      "Train for 20 steps, validate for 20 steps\n",
      "Epoch 1/3\n",
      "20/20 [==============================] - 22s 1s/step - loss: 99.9368 - accuracy: 0.1484 - val_loss: 36.6659 - val_accuracy: 0.1672\n",
      "Epoch 2/3\n",
      "20/20 [==============================] - 18s 894ms/step - loss: 23.3865 - accuracy: 0.1762 - val_loss: 13.0480 - val_accuracy: 0.2375\n",
      "Epoch 3/3\n",
      "20/20 [==============================] - 18s 890ms/step - loss: 9.1367 - accuracy: 0.2984 - val_loss: 7.1966 - val_accuracy: 0.2984\n",
      "Found 15702 images belonging to 10 classes.\n",
      "Found 6722 images belonging to 10 classes.\n",
      "WARNING:tensorflow:sample_weight modes were coerced from\n",
      "  ...\n",
      "    to  \n",
      "  ['...']\n",
      "WARNING:tensorflow:sample_weight modes were coerced from\n",
      "  ...\n",
      "    to  \n",
      "  ['...']\n",
      "Train for 20 steps, validate for 20 steps\n",
      "Epoch 1/3\n",
      "20/20 [==============================] - 23s 1s/step - loss: 152.4586 - accuracy: 0.1063 - val_loss: 76.8022 - val_accuracy: 0.1391\n",
      "Epoch 2/3\n",
      "20/20 [==============================] - 18s 895ms/step - loss: 53.7283 - accuracy: 0.1688 - val_loss: 28.8321 - val_accuracy: 0.2156\n",
      "Epoch 3/3\n",
      "20/20 [==============================] - 18s 910ms/step - loss: 22.6963 - accuracy: 0.2188 - val_loss: 14.8237 - val_accuracy: 0.2875\n"
     ]
    }
   ],
   "source": [
    "for i in range(5):\n",
    "    model = Sequential()\n",
    "    model.add(Conv2D(10, kernel_size=3, activation='relu', input_shape=(480, 640, 3)))\n",
    "    model.add(MaxPool2D(30))\n",
    "    model.add(Flatten())\n",
    "    model.add(Dense(10, activation='softmax'))\n",
    "    \n",
    "    model.compile(optimizer='adam', loss='categorical_crossentropy', metrics=['accuracy'])\n",
    "    \n",
    "    datagen = keras.preprocessing.image.ImageDataGenerator(validation_split=0.3)\n",
    "    \n",
    "    train = datagen.flow_from_directory(path, \\\n",
    "                                   target_size=(480, 640), \\\n",
    "                                   subset='training')\n",
    "    \n",
    "    val = datagen.flow_from_directory(path, \\\n",
    "                                   target_size=(480, 640), \\\n",
    "                                   subset='validation')\n",
    "    \n",
    "    model.fit(train, \\\n",
    "              epochs=3, \\\n",
    "              steps_per_epoch=20, \\\n",
    "              validation_data=val, \\\n",
    "              validation_steps=20, \\\n",
    "              callbacks=callbacks_list)\n",
    "    \n",
    "    #print('Evaluating')\n",
    "    #history = model.evaluate(val)\n",
    "    #scores[i,0] = history[0]\n",
    "    #scores[i,1] = history[1]\n",
    "    "
   ]
  }
 ],
 "metadata": {
  "kernelspec": {
   "display_name": "Python 3",
   "language": "python",
   "name": "python3"
  },
  "language_info": {
   "codemirror_mode": {
    "name": "ipython",
    "version": 3
   },
   "file_extension": ".py",
   "mimetype": "text/x-python",
   "name": "python",
   "nbconvert_exporter": "python",
   "pygments_lexer": "ipython3",
   "version": "3.7.9"
  },
  "toc": {
   "base_numbering": 1,
   "nav_menu": {},
   "number_sections": true,
   "sideBar": true,
   "skip_h1_title": false,
   "title_cell": "Table of Contents",
   "title_sidebar": "Contents",
   "toc_cell": false,
   "toc_position": {},
   "toc_section_display": true,
   "toc_window_display": false
  },
  "varInspector": {
   "cols": {
    "lenName": 16,
    "lenType": 16,
    "lenVar": 40
   },
   "kernels_config": {
    "python": {
     "delete_cmd_postfix": "",
     "delete_cmd_prefix": "del ",
     "library": "var_list.py",
     "varRefreshCmd": "print(var_dic_list())"
    },
    "r": {
     "delete_cmd_postfix": ") ",
     "delete_cmd_prefix": "rm(",
     "library": "var_list.r",
     "varRefreshCmd": "cat(var_dic_list()) "
    }
   },
   "types_to_exclude": [
    "module",
    "function",
    "builtin_function_or_method",
    "instance",
    "_Feature"
   ],
   "window_display": false
  }
 },
 "nbformat": 4,
 "nbformat_minor": 4
}
